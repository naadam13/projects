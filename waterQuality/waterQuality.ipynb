{
  "cells": [
    {
      "cell_type": "markdown",
      "metadata": {
        "id": "2OAuu0sPmI9A"
      },
      "source": [
        "# Water Quality Prediction"
      ]
    },
    {
      "cell_type": "markdown",
      "metadata": {
        "id": "uPOUiRe6lVl0"
      },
      "source": [
        "## Dataset"
      ]
    },
    {
      "cell_type": "markdown",
      "metadata": {
        "id": "OUyEdwfjlb4D"
      },
      "source": [
        "### Sources\n",
        "\n",
        "Link Download: https://www.kaggle.com/mssmartypants/water-quality \n",
        "\n",
        "### Context\n",
        "\n",
        "This is a set of data created from imaginary data of water quality in an urban environment. I recommend using this dataset for educational purposes, for practice and to acquire the necessary knowledge.\n",
        "\n",
        "### Content\n",
        "\n",
        "What's inside is more than just rows and columns. You can see water ingredients listed as column names.\n",
        "\n",
        "### Description\n",
        "\n",
        "All attributes are numeric variables and they are listed bellow:\n",
        "\n",
        "- aluminium - dangerous if greater than 2.8\n",
        "- ammonia - dangerous if greater than 32.5\n",
        "- arsenic - dangerous if greater than 0.01\n",
        "- barium - dangerous if greater than 2\n",
        "- cadmium - dangerous if greater than 0.005\n",
        "- chloramine - dangerous if greater than 4\n",
        "- chromium - dangerous if greater than 0.1\n",
        "- copper - dangerous if greater than 1.3\n",
        "- flouride - dangerous if greater than 1.5\n",
        "- bacteria - dangerous if greater than 0\n",
        "- viruses - dangerous if greater than 0\n",
        "- lead - dangerous if greater than 0.015\n",
        "- nitrates - dangerous if greater than 10\n",
        "- nitrites - dangerous if greater than 1\n",
        "- mercury - dangerous if greater than 0.002\n",
        "- perchlorate - dangerous if greater than 56\n",
        "- radium - dangerous if greater than 5\n",
        "- selenium - dangerous if greater than 0.5\n",
        "- silver - dangerous if greater than 0.1\n",
        "- uranium - dangerous if greater than 0.3\n",
        "- is_safe - class attribute {0 - not safe, 1 - safe}\n"
      ]
    },
    {
      "cell_type": "markdown",
      "metadata": {
        "id": "DpCYFeZ-jFfy"
      },
      "source": [
        "## Import Library"
      ]
    },
    {
      "cell_type": "code",
      "execution_count": 170,
      "metadata": {
        "id": "rpkZkuHfwAYR"
      },
      "outputs": [],
      "source": [
        "import numpy as np\n",
        "import pandas as pd\n",
        "import matplotlib.pyplot as plt\n",
        "%matplotlib inline\n",
        "import seaborn as sns\n",
        "from sklearn.model_selection import train_test_split, cross_val_score, GridSearchCV, RandomizedSearchCV\n",
        "from sklearn.preprocessing import StandardScaler, MinMaxScaler, Normalizer, RobustScaler, PowerTransformer, LabelEncoder, OrdinalEncoder\n",
        "from sklearn.linear_model import LogisticRegression, SGDClassifier\n",
        "from sklearn.svm import SVC\n",
        "from sklearn.tree import DecisionTreeClassifier \n",
        "from sklearn.ensemble import RandomForestClassifier\n",
        "from sklearn.neighbors import KNeighborsClassifier\n",
        "from sklearn.naive_bayes import GaussianNB\n",
        "from sklearn.metrics import classification_report, f1_score, plot_confusion_matrix\n",
        "from imblearn.over_sampling import RandomOverSampler, SMOTE, ADASYN, SVMSMOTE\n",
        "from imblearn.pipeline import Pipeline\n",
        "import pickle"
      ]
    },
    {
      "cell_type": "markdown",
      "metadata": {
        "id": "FchHNIVrjKoP"
      },
      "source": [
        "## Data Loading"
      ]
    },
    {
      "cell_type": "code",
      "execution_count": 171,
      "metadata": {
        "colab": {
          "base_uri": "https://localhost:8080/",
          "height": 488
        },
        "id": "DxhjAwNxwAYb",
        "outputId": "29338ed2-318d-4d6d-9f6b-874c9b594260"
      },
      "outputs": [
        {
          "data": {
            "text/html": [
              "\n",
              "  <div id=\"df-67c9c458-d2a9-46e6-88ed-c5c628070d75\">\n",
              "    <div class=\"colab-df-container\">\n",
              "      <div>\n",
              "<style scoped>\n",
              "    .dataframe tbody tr th:only-of-type {\n",
              "        vertical-align: middle;\n",
              "    }\n",
              "\n",
              "    .dataframe tbody tr th {\n",
              "        vertical-align: top;\n",
              "    }\n",
              "\n",
              "    .dataframe thead th {\n",
              "        text-align: right;\n",
              "    }\n",
              "</style>\n",
              "<table border=\"1\" class=\"dataframe\">\n",
              "  <thead>\n",
              "    <tr style=\"text-align: right;\">\n",
              "      <th></th>\n",
              "      <th>aluminium</th>\n",
              "      <th>ammonia</th>\n",
              "      <th>arsenic</th>\n",
              "      <th>barium</th>\n",
              "      <th>cadmium</th>\n",
              "      <th>chloramine</th>\n",
              "      <th>chromium</th>\n",
              "      <th>copper</th>\n",
              "      <th>flouride</th>\n",
              "      <th>bacteria</th>\n",
              "      <th>viruses</th>\n",
              "      <th>lead</th>\n",
              "      <th>nitrates</th>\n",
              "      <th>nitrites</th>\n",
              "      <th>mercury</th>\n",
              "      <th>perchlorate</th>\n",
              "      <th>radium</th>\n",
              "      <th>selenium</th>\n",
              "      <th>silver</th>\n",
              "      <th>uranium</th>\n",
              "      <th>is_safe</th>\n",
              "    </tr>\n",
              "  </thead>\n",
              "  <tbody>\n",
              "    <tr>\n",
              "      <th>0</th>\n",
              "      <td>1.65</td>\n",
              "      <td>9.08</td>\n",
              "      <td>0.04</td>\n",
              "      <td>2.85</td>\n",
              "      <td>0.007</td>\n",
              "      <td>0.35</td>\n",
              "      <td>0.83</td>\n",
              "      <td>0.17</td>\n",
              "      <td>0.05</td>\n",
              "      <td>0.20</td>\n",
              "      <td>0.000</td>\n",
              "      <td>0.054</td>\n",
              "      <td>16.08</td>\n",
              "      <td>1.13</td>\n",
              "      <td>0.007</td>\n",
              "      <td>37.75</td>\n",
              "      <td>6.78</td>\n",
              "      <td>0.08</td>\n",
              "      <td>0.34</td>\n",
              "      <td>0.02</td>\n",
              "      <td>1</td>\n",
              "    </tr>\n",
              "    <tr>\n",
              "      <th>1</th>\n",
              "      <td>2.32</td>\n",
              "      <td>21.16</td>\n",
              "      <td>0.01</td>\n",
              "      <td>3.31</td>\n",
              "      <td>0.002</td>\n",
              "      <td>5.28</td>\n",
              "      <td>0.68</td>\n",
              "      <td>0.66</td>\n",
              "      <td>0.90</td>\n",
              "      <td>0.65</td>\n",
              "      <td>0.650</td>\n",
              "      <td>0.100</td>\n",
              "      <td>2.01</td>\n",
              "      <td>1.93</td>\n",
              "      <td>0.003</td>\n",
              "      <td>32.26</td>\n",
              "      <td>3.21</td>\n",
              "      <td>0.08</td>\n",
              "      <td>0.27</td>\n",
              "      <td>0.05</td>\n",
              "      <td>1</td>\n",
              "    </tr>\n",
              "    <tr>\n",
              "      <th>2</th>\n",
              "      <td>1.01</td>\n",
              "      <td>14.02</td>\n",
              "      <td>0.04</td>\n",
              "      <td>0.58</td>\n",
              "      <td>0.008</td>\n",
              "      <td>4.24</td>\n",
              "      <td>0.53</td>\n",
              "      <td>0.02</td>\n",
              "      <td>0.99</td>\n",
              "      <td>0.05</td>\n",
              "      <td>0.003</td>\n",
              "      <td>0.078</td>\n",
              "      <td>14.16</td>\n",
              "      <td>1.11</td>\n",
              "      <td>0.006</td>\n",
              "      <td>50.28</td>\n",
              "      <td>7.07</td>\n",
              "      <td>0.07</td>\n",
              "      <td>0.44</td>\n",
              "      <td>0.01</td>\n",
              "      <td>0</td>\n",
              "    </tr>\n",
              "    <tr>\n",
              "      <th>3</th>\n",
              "      <td>1.36</td>\n",
              "      <td>11.33</td>\n",
              "      <td>0.04</td>\n",
              "      <td>2.96</td>\n",
              "      <td>0.001</td>\n",
              "      <td>7.23</td>\n",
              "      <td>0.03</td>\n",
              "      <td>1.66</td>\n",
              "      <td>1.08</td>\n",
              "      <td>0.71</td>\n",
              "      <td>0.710</td>\n",
              "      <td>0.016</td>\n",
              "      <td>1.41</td>\n",
              "      <td>1.29</td>\n",
              "      <td>0.004</td>\n",
              "      <td>9.12</td>\n",
              "      <td>1.72</td>\n",
              "      <td>0.02</td>\n",
              "      <td>0.45</td>\n",
              "      <td>0.05</td>\n",
              "      <td>1</td>\n",
              "    </tr>\n",
              "    <tr>\n",
              "      <th>4</th>\n",
              "      <td>0.92</td>\n",
              "      <td>24.33</td>\n",
              "      <td>0.03</td>\n",
              "      <td>0.20</td>\n",
              "      <td>0.006</td>\n",
              "      <td>2.67</td>\n",
              "      <td>0.69</td>\n",
              "      <td>0.57</td>\n",
              "      <td>0.61</td>\n",
              "      <td>0.13</td>\n",
              "      <td>0.001</td>\n",
              "      <td>0.117</td>\n",
              "      <td>6.74</td>\n",
              "      <td>1.11</td>\n",
              "      <td>0.003</td>\n",
              "      <td>16.90</td>\n",
              "      <td>2.41</td>\n",
              "      <td>0.02</td>\n",
              "      <td>0.06</td>\n",
              "      <td>0.02</td>\n",
              "      <td>1</td>\n",
              "    </tr>\n",
              "    <tr>\n",
              "      <th>...</th>\n",
              "      <td>...</td>\n",
              "      <td>...</td>\n",
              "      <td>...</td>\n",
              "      <td>...</td>\n",
              "      <td>...</td>\n",
              "      <td>...</td>\n",
              "      <td>...</td>\n",
              "      <td>...</td>\n",
              "      <td>...</td>\n",
              "      <td>...</td>\n",
              "      <td>...</td>\n",
              "      <td>...</td>\n",
              "      <td>...</td>\n",
              "      <td>...</td>\n",
              "      <td>...</td>\n",
              "      <td>...</td>\n",
              "      <td>...</td>\n",
              "      <td>...</td>\n",
              "      <td>...</td>\n",
              "      <td>...</td>\n",
              "      <td>...</td>\n",
              "    </tr>\n",
              "    <tr>\n",
              "      <th>7994</th>\n",
              "      <td>0.05</td>\n",
              "      <td>7.78</td>\n",
              "      <td>0.00</td>\n",
              "      <td>1.95</td>\n",
              "      <td>0.040</td>\n",
              "      <td>0.10</td>\n",
              "      <td>0.03</td>\n",
              "      <td>0.03</td>\n",
              "      <td>1.37</td>\n",
              "      <td>0.00</td>\n",
              "      <td>0.000</td>\n",
              "      <td>0.197</td>\n",
              "      <td>14.29</td>\n",
              "      <td>1.00</td>\n",
              "      <td>0.005</td>\n",
              "      <td>3.57</td>\n",
              "      <td>2.13</td>\n",
              "      <td>0.09</td>\n",
              "      <td>0.06</td>\n",
              "      <td>0.03</td>\n",
              "      <td>1</td>\n",
              "    </tr>\n",
              "    <tr>\n",
              "      <th>7995</th>\n",
              "      <td>0.05</td>\n",
              "      <td>24.22</td>\n",
              "      <td>0.02</td>\n",
              "      <td>0.59</td>\n",
              "      <td>0.010</td>\n",
              "      <td>0.45</td>\n",
              "      <td>0.02</td>\n",
              "      <td>0.02</td>\n",
              "      <td>1.48</td>\n",
              "      <td>0.00</td>\n",
              "      <td>0.000</td>\n",
              "      <td>0.031</td>\n",
              "      <td>10.27</td>\n",
              "      <td>1.00</td>\n",
              "      <td>0.001</td>\n",
              "      <td>1.48</td>\n",
              "      <td>1.11</td>\n",
              "      <td>0.09</td>\n",
              "      <td>0.10</td>\n",
              "      <td>0.08</td>\n",
              "      <td>1</td>\n",
              "    </tr>\n",
              "    <tr>\n",
              "      <th>7996</th>\n",
              "      <td>0.09</td>\n",
              "      <td>6.85</td>\n",
              "      <td>0.00</td>\n",
              "      <td>0.61</td>\n",
              "      <td>0.030</td>\n",
              "      <td>0.05</td>\n",
              "      <td>0.05</td>\n",
              "      <td>0.02</td>\n",
              "      <td>0.91</td>\n",
              "      <td>0.00</td>\n",
              "      <td>0.000</td>\n",
              "      <td>0.182</td>\n",
              "      <td>15.92</td>\n",
              "      <td>1.00</td>\n",
              "      <td>0.000</td>\n",
              "      <td>1.35</td>\n",
              "      <td>4.84</td>\n",
              "      <td>0.00</td>\n",
              "      <td>0.04</td>\n",
              "      <td>0.05</td>\n",
              "      <td>1</td>\n",
              "    </tr>\n",
              "    <tr>\n",
              "      <th>7997</th>\n",
              "      <td>0.01</td>\n",
              "      <td>10</td>\n",
              "      <td>0.01</td>\n",
              "      <td>2.00</td>\n",
              "      <td>0.000</td>\n",
              "      <td>2.00</td>\n",
              "      <td>0.00</td>\n",
              "      <td>0.09</td>\n",
              "      <td>0.00</td>\n",
              "      <td>0.00</td>\n",
              "      <td>0.000</td>\n",
              "      <td>0.000</td>\n",
              "      <td>0.00</td>\n",
              "      <td>0.00</td>\n",
              "      <td>0.000</td>\n",
              "      <td>0.00</td>\n",
              "      <td>0.00</td>\n",
              "      <td>0.00</td>\n",
              "      <td>0.00</td>\n",
              "      <td>0.00</td>\n",
              "      <td>1</td>\n",
              "    </tr>\n",
              "    <tr>\n",
              "      <th>7998</th>\n",
              "      <td>0.04</td>\n",
              "      <td>6.85</td>\n",
              "      <td>0.01</td>\n",
              "      <td>0.70</td>\n",
              "      <td>0.030</td>\n",
              "      <td>0.05</td>\n",
              "      <td>0.01</td>\n",
              "      <td>0.03</td>\n",
              "      <td>1.00</td>\n",
              "      <td>0.00</td>\n",
              "      <td>0.000</td>\n",
              "      <td>0.182</td>\n",
              "      <td>15.92</td>\n",
              "      <td>1.00</td>\n",
              "      <td>0.000</td>\n",
              "      <td>1.35</td>\n",
              "      <td>4.84</td>\n",
              "      <td>0.00</td>\n",
              "      <td>0.04</td>\n",
              "      <td>0.05</td>\n",
              "      <td>1</td>\n",
              "    </tr>\n",
              "  </tbody>\n",
              "</table>\n",
              "<p>7999 rows × 21 columns</p>\n",
              "</div>\n",
              "      <button class=\"colab-df-convert\" onclick=\"convertToInteractive('df-67c9c458-d2a9-46e6-88ed-c5c628070d75')\"\n",
              "              title=\"Convert this dataframe to an interactive table.\"\n",
              "              style=\"display:none;\">\n",
              "        \n",
              "  <svg xmlns=\"http://www.w3.org/2000/svg\" height=\"24px\"viewBox=\"0 0 24 24\"\n",
              "       width=\"24px\">\n",
              "    <path d=\"M0 0h24v24H0V0z\" fill=\"none\"/>\n",
              "    <path d=\"M18.56 5.44l.94 2.06.94-2.06 2.06-.94-2.06-.94-.94-2.06-.94 2.06-2.06.94zm-11 1L8.5 8.5l.94-2.06 2.06-.94-2.06-.94L8.5 2.5l-.94 2.06-2.06.94zm10 10l.94 2.06.94-2.06 2.06-.94-2.06-.94-.94-2.06-.94 2.06-2.06.94z\"/><path d=\"M17.41 7.96l-1.37-1.37c-.4-.4-.92-.59-1.43-.59-.52 0-1.04.2-1.43.59L10.3 9.45l-7.72 7.72c-.78.78-.78 2.05 0 2.83L4 21.41c.39.39.9.59 1.41.59.51 0 1.02-.2 1.41-.59l7.78-7.78 2.81-2.81c.8-.78.8-2.07 0-2.86zM5.41 20L4 18.59l7.72-7.72 1.47 1.35L5.41 20z\"/>\n",
              "  </svg>\n",
              "      </button>\n",
              "      \n",
              "  <style>\n",
              "    .colab-df-container {\n",
              "      display:flex;\n",
              "      flex-wrap:wrap;\n",
              "      gap: 12px;\n",
              "    }\n",
              "\n",
              "    .colab-df-convert {\n",
              "      background-color: #E8F0FE;\n",
              "      border: none;\n",
              "      border-radius: 50%;\n",
              "      cursor: pointer;\n",
              "      display: none;\n",
              "      fill: #1967D2;\n",
              "      height: 32px;\n",
              "      padding: 0 0 0 0;\n",
              "      width: 32px;\n",
              "    }\n",
              "\n",
              "    .colab-df-convert:hover {\n",
              "      background-color: #E2EBFA;\n",
              "      box-shadow: 0px 1px 2px rgba(60, 64, 67, 0.3), 0px 1px 3px 1px rgba(60, 64, 67, 0.15);\n",
              "      fill: #174EA6;\n",
              "    }\n",
              "\n",
              "    [theme=dark] .colab-df-convert {\n",
              "      background-color: #3B4455;\n",
              "      fill: #D2E3FC;\n",
              "    }\n",
              "\n",
              "    [theme=dark] .colab-df-convert:hover {\n",
              "      background-color: #434B5C;\n",
              "      box-shadow: 0px 1px 3px 1px rgba(0, 0, 0, 0.15);\n",
              "      filter: drop-shadow(0px 1px 2px rgba(0, 0, 0, 0.3));\n",
              "      fill: #FFFFFF;\n",
              "    }\n",
              "  </style>\n",
              "\n",
              "      <script>\n",
              "        const buttonEl =\n",
              "          document.querySelector('#df-67c9c458-d2a9-46e6-88ed-c5c628070d75 button.colab-df-convert');\n",
              "        buttonEl.style.display =\n",
              "          google.colab.kernel.accessAllowed ? 'block' : 'none';\n",
              "\n",
              "        async function convertToInteractive(key) {\n",
              "          const element = document.querySelector('#df-67c9c458-d2a9-46e6-88ed-c5c628070d75');\n",
              "          const dataTable =\n",
              "            await google.colab.kernel.invokeFunction('convertToInteractive',\n",
              "                                                     [key], {});\n",
              "          if (!dataTable) return;\n",
              "\n",
              "          const docLinkHtml = 'Like what you see? Visit the ' +\n",
              "            '<a target=\"_blank\" href=https://colab.research.google.com/notebooks/data_table.ipynb>data table notebook</a>'\n",
              "            + ' to learn more about interactive tables.';\n",
              "          element.innerHTML = '';\n",
              "          dataTable['output_type'] = 'display_data';\n",
              "          await google.colab.output.renderOutput(dataTable, element);\n",
              "          const docLink = document.createElement('div');\n",
              "          docLink.innerHTML = docLinkHtml;\n",
              "          element.appendChild(docLink);\n",
              "        }\n",
              "      </script>\n",
              "    </div>\n",
              "  </div>\n",
              "  "
            ],
            "text/plain": [
              "      aluminium ammonia  arsenic  barium  ...  selenium  silver  uranium  is_safe\n",
              "0          1.65    9.08     0.04    2.85  ...      0.08    0.34     0.02        1\n",
              "1          2.32   21.16     0.01    3.31  ...      0.08    0.27     0.05        1\n",
              "2          1.01   14.02     0.04    0.58  ...      0.07    0.44     0.01        0\n",
              "3          1.36   11.33     0.04    2.96  ...      0.02    0.45     0.05        1\n",
              "4          0.92   24.33     0.03    0.20  ...      0.02    0.06     0.02        1\n",
              "...         ...     ...      ...     ...  ...       ...     ...      ...      ...\n",
              "7994       0.05    7.78     0.00    1.95  ...      0.09    0.06     0.03        1\n",
              "7995       0.05   24.22     0.02    0.59  ...      0.09    0.10     0.08        1\n",
              "7996       0.09    6.85     0.00    0.61  ...      0.00    0.04     0.05        1\n",
              "7997       0.01      10     0.01    2.00  ...      0.00    0.00     0.00        1\n",
              "7998       0.04    6.85     0.01    0.70  ...      0.00    0.04     0.05        1\n",
              "\n",
              "[7999 rows x 21 columns]"
            ]
          },
          "execution_count": 171,
          "metadata": {},
          "output_type": "execute_result"
        }
      ],
      "source": [
        "df = pd.read_csv(\"https://raw.githubusercontent.com/naadam13/hacktiv8_sources/main/waterQuality1.csv\")\n",
        "#df = pd.read_csv(\"waterQuality1.csv\")\n",
        "df"
      ]
    },
    {
      "cell_type": "markdown",
      "metadata": {
        "id": "udm8GBXAwAYf"
      },
      "source": [
        "Data-data di atas menunjukkan konsentrasi suatu substansi dalam air dimana konsentrasi tersebut akan menentukan apakah air tersebut aman untuk dikonsumsi atau tidak."
      ]
    },
    {
      "cell_type": "markdown",
      "metadata": {
        "id": "L4wViHPjjOWN"
      },
      "source": [
        "## Exploratory Data Analysis"
      ]
    },
    {
      "cell_type": "code",
      "execution_count": 172,
      "metadata": {
        "colab": {
          "base_uri": "https://localhost:8080/"
        },
        "id": "JXmiY9MQwAYj",
        "outputId": "180d01a0-a1db-489a-ccf2-1cf7319bc6de"
      },
      "outputs": [
        {
          "name": "stdout",
          "output_type": "stream",
          "text": [
            "<class 'pandas.core.frame.DataFrame'>\n",
            "RangeIndex: 7999 entries, 0 to 7998\n",
            "Data columns (total 21 columns):\n",
            " #   Column       Non-Null Count  Dtype  \n",
            "---  ------       --------------  -----  \n",
            " 0   aluminium    7999 non-null   float64\n",
            " 1   ammonia      7999 non-null   object \n",
            " 2   arsenic      7999 non-null   float64\n",
            " 3   barium       7999 non-null   float64\n",
            " 4   cadmium      7999 non-null   float64\n",
            " 5   chloramine   7999 non-null   float64\n",
            " 6   chromium     7999 non-null   float64\n",
            " 7   copper       7999 non-null   float64\n",
            " 8   flouride     7999 non-null   float64\n",
            " 9   bacteria     7999 non-null   float64\n",
            " 10  viruses      7999 non-null   float64\n",
            " 11  lead         7999 non-null   float64\n",
            " 12  nitrates     7999 non-null   float64\n",
            " 13  nitrites     7999 non-null   float64\n",
            " 14  mercury      7999 non-null   float64\n",
            " 15  perchlorate  7999 non-null   float64\n",
            " 16  radium       7999 non-null   float64\n",
            " 17  selenium     7999 non-null   float64\n",
            " 18  silver       7999 non-null   float64\n",
            " 19  uranium      7999 non-null   float64\n",
            " 20  is_safe      7999 non-null   object \n",
            "dtypes: float64(19), object(2)\n",
            "memory usage: 1.3+ MB\n"
          ]
        }
      ],
      "source": [
        "# Cek tipe data dan missing values\n",
        "df.info()"
      ]
    },
    {
      "cell_type": "markdown",
      "metadata": {
        "id": "LEqaQmw3wAYl"
      },
      "source": [
        "Terdapat keanehan dalam kolom \"ammonia\" dan \"is_safe\" dimana pada tampilan loading terlihat bahwa keduanya memiliki nilai numerik namun ketika memakai perintah .info() terdeteksi sebagai object.\n",
        "\n",
        "Pada situs https://www.kaggle.com/mssmartypants/water-quality/discussion/250066 terdapat informasi bahwa terjadi kesalahan dalam penginputan data pada indeks 7551, 7568, 7890."
      ]
    },
    {
      "cell_type": "code",
      "execution_count": 173,
      "metadata": {
        "colab": {
          "base_uri": "https://localhost:8080/"
        },
        "id": "eApfH-ZUwAYm",
        "outputId": "bc53b984-b795-4fb9-a4d6-e4ec7f0324c4"
      },
      "outputs": [
        {
          "name": "stdout",
          "output_type": "stream",
          "text": [
            "df[ammonia][7551]:  #NUM!\n",
            "df[ammonia][7568]:  #NUM!\n",
            "df[ammonia][7890]:  #NUM!\n",
            "\n",
            "df[is_safe][7551]:  #NUM!\n",
            "df[is_safe][7568]:  #NUM!\n",
            "df[is_safe][7890]:  #NUM!\n"
          ]
        }
      ],
      "source": [
        "# Mengecek data pada kolom \"ammonia\"\n",
        "print(\"df[ammonia][7551]: \", df[\"ammonia\"][7551])\n",
        "print(\"df[ammonia][7568]: \", df[\"ammonia\"][7568])\n",
        "print(\"df[ammonia][7890]: \", df[\"ammonia\"][7890])\n",
        "print(\"\")\n",
        "# Mengecek data pada kolom \"is_safe\"\n",
        "print(\"df[is_safe][7551]: \", df[\"is_safe\"][7551])\n",
        "print(\"df[is_safe][7568]: \", df[\"is_safe\"][7568])\n",
        "print(\"df[is_safe][7890]: \", df[\"is_safe\"][7890])"
      ]
    },
    {
      "cell_type": "markdown",
      "metadata": {
        "id": "syL2P8LDwAYo"
      },
      "source": [
        "Hal ini dapat ditangani dengan mengubah data string menjadi missing values."
      ]
    },
    {
      "cell_type": "code",
      "execution_count": 174,
      "metadata": {
        "id": "4gTKj8BGwAYq"
      },
      "outputs": [],
      "source": [
        "# Mengubah data object menjadi numerik dan mengubah data non-numerik menjadi missing values\n",
        "df['ammonia'] = pd.to_numeric(df['ammonia'], errors = 'coerce')\n",
        "df['is_safe'] = pd.to_numeric(df['is_safe'], errors = 'coerce')"
      ]
    },
    {
      "cell_type": "code",
      "execution_count": 175,
      "metadata": {
        "colab": {
          "base_uri": "https://localhost:8080/",
          "height": 364
        },
        "id": "siM2_L_3wAYt",
        "outputId": "f95b6316-6ec4-4539-942a-a530f31627af"
      },
      "outputs": [
        {
          "data": {
            "text/html": [
              "\n",
              "  <div id=\"df-398346ba-c684-453a-96af-f2247da0991b\">\n",
              "    <div class=\"colab-df-container\">\n",
              "      <div>\n",
              "<style scoped>\n",
              "    .dataframe tbody tr th:only-of-type {\n",
              "        vertical-align: middle;\n",
              "    }\n",
              "\n",
              "    .dataframe tbody tr th {\n",
              "        vertical-align: top;\n",
              "    }\n",
              "\n",
              "    .dataframe thead th {\n",
              "        text-align: right;\n",
              "    }\n",
              "</style>\n",
              "<table border=\"1\" class=\"dataframe\">\n",
              "  <thead>\n",
              "    <tr style=\"text-align: right;\">\n",
              "      <th></th>\n",
              "      <th>aluminium</th>\n",
              "      <th>ammonia</th>\n",
              "      <th>arsenic</th>\n",
              "      <th>barium</th>\n",
              "      <th>cadmium</th>\n",
              "      <th>chloramine</th>\n",
              "      <th>chromium</th>\n",
              "      <th>copper</th>\n",
              "      <th>flouride</th>\n",
              "      <th>bacteria</th>\n",
              "      <th>viruses</th>\n",
              "      <th>lead</th>\n",
              "      <th>nitrates</th>\n",
              "      <th>nitrites</th>\n",
              "      <th>mercury</th>\n",
              "      <th>perchlorate</th>\n",
              "      <th>radium</th>\n",
              "      <th>selenium</th>\n",
              "      <th>silver</th>\n",
              "      <th>uranium</th>\n",
              "      <th>is_safe</th>\n",
              "    </tr>\n",
              "  </thead>\n",
              "  <tbody>\n",
              "    <tr>\n",
              "      <th>count</th>\n",
              "      <td>7999.000000</td>\n",
              "      <td>7996.000000</td>\n",
              "      <td>7999.000000</td>\n",
              "      <td>7999.000000</td>\n",
              "      <td>7999.000000</td>\n",
              "      <td>7999.000000</td>\n",
              "      <td>7999.000000</td>\n",
              "      <td>7999.000000</td>\n",
              "      <td>7999.000000</td>\n",
              "      <td>7999.000000</td>\n",
              "      <td>7999.000000</td>\n",
              "      <td>7999.000000</td>\n",
              "      <td>7999.000000</td>\n",
              "      <td>7999.000000</td>\n",
              "      <td>7999.000000</td>\n",
              "      <td>7999.000000</td>\n",
              "      <td>7999.000000</td>\n",
              "      <td>7999.000000</td>\n",
              "      <td>7999.000000</td>\n",
              "      <td>7999.000000</td>\n",
              "      <td>7996.000000</td>\n",
              "    </tr>\n",
              "    <tr>\n",
              "      <th>mean</th>\n",
              "      <td>0.666158</td>\n",
              "      <td>14.278212</td>\n",
              "      <td>0.161445</td>\n",
              "      <td>1.567715</td>\n",
              "      <td>0.042806</td>\n",
              "      <td>2.176831</td>\n",
              "      <td>0.247226</td>\n",
              "      <td>0.805857</td>\n",
              "      <td>0.771565</td>\n",
              "      <td>0.319665</td>\n",
              "      <td>0.328583</td>\n",
              "      <td>0.099450</td>\n",
              "      <td>9.818822</td>\n",
              "      <td>1.329961</td>\n",
              "      <td>0.005194</td>\n",
              "      <td>16.460299</td>\n",
              "      <td>2.920548</td>\n",
              "      <td>0.049685</td>\n",
              "      <td>0.147781</td>\n",
              "      <td>0.044673</td>\n",
              "      <td>0.114057</td>\n",
              "    </tr>\n",
              "    <tr>\n",
              "      <th>std</th>\n",
              "      <td>1.265145</td>\n",
              "      <td>8.878930</td>\n",
              "      <td>0.252590</td>\n",
              "      <td>1.216091</td>\n",
              "      <td>0.036049</td>\n",
              "      <td>2.567027</td>\n",
              "      <td>0.270640</td>\n",
              "      <td>0.653539</td>\n",
              "      <td>0.435373</td>\n",
              "      <td>0.329485</td>\n",
              "      <td>0.378096</td>\n",
              "      <td>0.058172</td>\n",
              "      <td>5.541331</td>\n",
              "      <td>0.573219</td>\n",
              "      <td>0.002967</td>\n",
              "      <td>17.687474</td>\n",
              "      <td>2.323009</td>\n",
              "      <td>0.028770</td>\n",
              "      <td>0.143551</td>\n",
              "      <td>0.026904</td>\n",
              "      <td>0.317900</td>\n",
              "    </tr>\n",
              "    <tr>\n",
              "      <th>min</th>\n",
              "      <td>0.000000</td>\n",
              "      <td>-0.080000</td>\n",
              "      <td>0.000000</td>\n",
              "      <td>0.000000</td>\n",
              "      <td>0.000000</td>\n",
              "      <td>0.000000</td>\n",
              "      <td>0.000000</td>\n",
              "      <td>0.000000</td>\n",
              "      <td>0.000000</td>\n",
              "      <td>0.000000</td>\n",
              "      <td>0.000000</td>\n",
              "      <td>0.000000</td>\n",
              "      <td>0.000000</td>\n",
              "      <td>0.000000</td>\n",
              "      <td>0.000000</td>\n",
              "      <td>0.000000</td>\n",
              "      <td>0.000000</td>\n",
              "      <td>0.000000</td>\n",
              "      <td>0.000000</td>\n",
              "      <td>0.000000</td>\n",
              "      <td>0.000000</td>\n",
              "    </tr>\n",
              "    <tr>\n",
              "      <th>25%</th>\n",
              "      <td>0.040000</td>\n",
              "      <td>6.577500</td>\n",
              "      <td>0.030000</td>\n",
              "      <td>0.560000</td>\n",
              "      <td>0.008000</td>\n",
              "      <td>0.100000</td>\n",
              "      <td>0.050000</td>\n",
              "      <td>0.090000</td>\n",
              "      <td>0.405000</td>\n",
              "      <td>0.000000</td>\n",
              "      <td>0.002000</td>\n",
              "      <td>0.048000</td>\n",
              "      <td>5.000000</td>\n",
              "      <td>1.000000</td>\n",
              "      <td>0.003000</td>\n",
              "      <td>2.170000</td>\n",
              "      <td>0.820000</td>\n",
              "      <td>0.020000</td>\n",
              "      <td>0.040000</td>\n",
              "      <td>0.020000</td>\n",
              "      <td>0.000000</td>\n",
              "    </tr>\n",
              "    <tr>\n",
              "      <th>50%</th>\n",
              "      <td>0.070000</td>\n",
              "      <td>14.130000</td>\n",
              "      <td>0.050000</td>\n",
              "      <td>1.190000</td>\n",
              "      <td>0.040000</td>\n",
              "      <td>0.530000</td>\n",
              "      <td>0.090000</td>\n",
              "      <td>0.750000</td>\n",
              "      <td>0.770000</td>\n",
              "      <td>0.220000</td>\n",
              "      <td>0.008000</td>\n",
              "      <td>0.102000</td>\n",
              "      <td>9.930000</td>\n",
              "      <td>1.420000</td>\n",
              "      <td>0.005000</td>\n",
              "      <td>7.740000</td>\n",
              "      <td>2.410000</td>\n",
              "      <td>0.050000</td>\n",
              "      <td>0.080000</td>\n",
              "      <td>0.050000</td>\n",
              "      <td>0.000000</td>\n",
              "    </tr>\n",
              "    <tr>\n",
              "      <th>75%</th>\n",
              "      <td>0.280000</td>\n",
              "      <td>22.132500</td>\n",
              "      <td>0.100000</td>\n",
              "      <td>2.480000</td>\n",
              "      <td>0.070000</td>\n",
              "      <td>4.240000</td>\n",
              "      <td>0.440000</td>\n",
              "      <td>1.390000</td>\n",
              "      <td>1.160000</td>\n",
              "      <td>0.610000</td>\n",
              "      <td>0.700000</td>\n",
              "      <td>0.151000</td>\n",
              "      <td>14.610000</td>\n",
              "      <td>1.760000</td>\n",
              "      <td>0.008000</td>\n",
              "      <td>29.480000</td>\n",
              "      <td>4.670000</td>\n",
              "      <td>0.070000</td>\n",
              "      <td>0.240000</td>\n",
              "      <td>0.070000</td>\n",
              "      <td>0.000000</td>\n",
              "    </tr>\n",
              "    <tr>\n",
              "      <th>max</th>\n",
              "      <td>5.050000</td>\n",
              "      <td>29.840000</td>\n",
              "      <td>1.050000</td>\n",
              "      <td>4.940000</td>\n",
              "      <td>0.130000</td>\n",
              "      <td>8.680000</td>\n",
              "      <td>0.900000</td>\n",
              "      <td>2.000000</td>\n",
              "      <td>1.500000</td>\n",
              "      <td>1.000000</td>\n",
              "      <td>1.000000</td>\n",
              "      <td>0.200000</td>\n",
              "      <td>19.830000</td>\n",
              "      <td>2.930000</td>\n",
              "      <td>0.010000</td>\n",
              "      <td>60.010000</td>\n",
              "      <td>7.990000</td>\n",
              "      <td>0.100000</td>\n",
              "      <td>0.500000</td>\n",
              "      <td>0.090000</td>\n",
              "      <td>1.000000</td>\n",
              "    </tr>\n",
              "  </tbody>\n",
              "</table>\n",
              "</div>\n",
              "      <button class=\"colab-df-convert\" onclick=\"convertToInteractive('df-398346ba-c684-453a-96af-f2247da0991b')\"\n",
              "              title=\"Convert this dataframe to an interactive table.\"\n",
              "              style=\"display:none;\">\n",
              "        \n",
              "  <svg xmlns=\"http://www.w3.org/2000/svg\" height=\"24px\"viewBox=\"0 0 24 24\"\n",
              "       width=\"24px\">\n",
              "    <path d=\"M0 0h24v24H0V0z\" fill=\"none\"/>\n",
              "    <path d=\"M18.56 5.44l.94 2.06.94-2.06 2.06-.94-2.06-.94-.94-2.06-.94 2.06-2.06.94zm-11 1L8.5 8.5l.94-2.06 2.06-.94-2.06-.94L8.5 2.5l-.94 2.06-2.06.94zm10 10l.94 2.06.94-2.06 2.06-.94-2.06-.94-.94-2.06-.94 2.06-2.06.94z\"/><path d=\"M17.41 7.96l-1.37-1.37c-.4-.4-.92-.59-1.43-.59-.52 0-1.04.2-1.43.59L10.3 9.45l-7.72 7.72c-.78.78-.78 2.05 0 2.83L4 21.41c.39.39.9.59 1.41.59.51 0 1.02-.2 1.41-.59l7.78-7.78 2.81-2.81c.8-.78.8-2.07 0-2.86zM5.41 20L4 18.59l7.72-7.72 1.47 1.35L5.41 20z\"/>\n",
              "  </svg>\n",
              "      </button>\n",
              "      \n",
              "  <style>\n",
              "    .colab-df-container {\n",
              "      display:flex;\n",
              "      flex-wrap:wrap;\n",
              "      gap: 12px;\n",
              "    }\n",
              "\n",
              "    .colab-df-convert {\n",
              "      background-color: #E8F0FE;\n",
              "      border: none;\n",
              "      border-radius: 50%;\n",
              "      cursor: pointer;\n",
              "      display: none;\n",
              "      fill: #1967D2;\n",
              "      height: 32px;\n",
              "      padding: 0 0 0 0;\n",
              "      width: 32px;\n",
              "    }\n",
              "\n",
              "    .colab-df-convert:hover {\n",
              "      background-color: #E2EBFA;\n",
              "      box-shadow: 0px 1px 2px rgba(60, 64, 67, 0.3), 0px 1px 3px 1px rgba(60, 64, 67, 0.15);\n",
              "      fill: #174EA6;\n",
              "    }\n",
              "\n",
              "    [theme=dark] .colab-df-convert {\n",
              "      background-color: #3B4455;\n",
              "      fill: #D2E3FC;\n",
              "    }\n",
              "\n",
              "    [theme=dark] .colab-df-convert:hover {\n",
              "      background-color: #434B5C;\n",
              "      box-shadow: 0px 1px 3px 1px rgba(0, 0, 0, 0.15);\n",
              "      filter: drop-shadow(0px 1px 2px rgba(0, 0, 0, 0.3));\n",
              "      fill: #FFFFFF;\n",
              "    }\n",
              "  </style>\n",
              "\n",
              "      <script>\n",
              "        const buttonEl =\n",
              "          document.querySelector('#df-398346ba-c684-453a-96af-f2247da0991b button.colab-df-convert');\n",
              "        buttonEl.style.display =\n",
              "          google.colab.kernel.accessAllowed ? 'block' : 'none';\n",
              "\n",
              "        async function convertToInteractive(key) {\n",
              "          const element = document.querySelector('#df-398346ba-c684-453a-96af-f2247da0991b');\n",
              "          const dataTable =\n",
              "            await google.colab.kernel.invokeFunction('convertToInteractive',\n",
              "                                                     [key], {});\n",
              "          if (!dataTable) return;\n",
              "\n",
              "          const docLinkHtml = 'Like what you see? Visit the ' +\n",
              "            '<a target=\"_blank\" href=https://colab.research.google.com/notebooks/data_table.ipynb>data table notebook</a>'\n",
              "            + ' to learn more about interactive tables.';\n",
              "          element.innerHTML = '';\n",
              "          dataTable['output_type'] = 'display_data';\n",
              "          await google.colab.output.renderOutput(dataTable, element);\n",
              "          const docLink = document.createElement('div');\n",
              "          docLink.innerHTML = docLinkHtml;\n",
              "          element.appendChild(docLink);\n",
              "        }\n",
              "      </script>\n",
              "    </div>\n",
              "  </div>\n",
              "  "
            ],
            "text/plain": [
              "         aluminium      ammonia  ...      uranium      is_safe\n",
              "count  7999.000000  7996.000000  ...  7999.000000  7996.000000\n",
              "mean      0.666158    14.278212  ...     0.044673     0.114057\n",
              "std       1.265145     8.878930  ...     0.026904     0.317900\n",
              "min       0.000000    -0.080000  ...     0.000000     0.000000\n",
              "25%       0.040000     6.577500  ...     0.020000     0.000000\n",
              "50%       0.070000    14.130000  ...     0.050000     0.000000\n",
              "75%       0.280000    22.132500  ...     0.070000     0.000000\n",
              "max       5.050000    29.840000  ...     0.090000     1.000000\n",
              "\n",
              "[8 rows x 21 columns]"
            ]
          },
          "execution_count": 175,
          "metadata": {},
          "output_type": "execute_result"
        }
      ],
      "source": [
        "# Mencari informasi statistik data\n",
        "df.describe()"
      ]
    },
    {
      "cell_type": "markdown",
      "metadata": {
        "id": "DZ8PVB2TwAYw"
      },
      "source": [
        "Pada deskriptif statistik di atas terlihat bahwa hanya nilai minimum \"ammonia\" yang bernilai negatif."
      ]
    },
    {
      "cell_type": "code",
      "execution_count": 176,
      "metadata": {
        "colab": {
          "base_uri": "https://localhost:8080/"
        },
        "id": "ksr2peaEwAYy",
        "outputId": "b036d3d4-3829-4707-c77a-994739edfc2e"
      },
      "outputs": [
        {
          "data": {
            "text/plain": [
              "aluminium      10\n",
              "ammonia        10\n",
              "arsenic        10\n",
              "barium         10\n",
              "cadmium        10\n",
              "chloramine     10\n",
              "chromium       10\n",
              "copper         10\n",
              "flouride       10\n",
              "bacteria       10\n",
              "viruses        10\n",
              "lead           10\n",
              "nitrates       10\n",
              "nitrites       10\n",
              "mercury        10\n",
              "perchlorate    10\n",
              "radium         10\n",
              "selenium       10\n",
              "silver         10\n",
              "uranium        10\n",
              "is_safe        10\n",
              "dtype: int64"
            ]
          },
          "execution_count": 176,
          "metadata": {},
          "output_type": "execute_result"
        }
      ],
      "source": [
        "# Mengecek jumlah konsentrasi negatif\n",
        "df[df[\"ammonia\"]<0].count()"
      ]
    },
    {
      "cell_type": "markdown",
      "metadata": {
        "id": "nzdM0r0VwAYz"
      },
      "source": [
        "Berdasarkan situs https://www.researchgate.net/post/Is-it-possible-to-have-negative-NH3-concentration-from-samples-taken-from-the-field-where-NH3-volatilization-was-measured diketahui bahwa hal ini dapat disebabkan oleh kesalahan dalam pengambilan data. Data negatif tersebut tetap dapat dianggap sebagai nilai minimum, sehingga data tersebut tidak perlu didrop. Jumlah data yang bernilai negatif tersebut hanya 10 data, sehingga tidak terlalu mempengaruhi data secara keseluruhan. "
      ]
    },
    {
      "cell_type": "code",
      "execution_count": 177,
      "metadata": {
        "colab": {
          "base_uri": "https://localhost:8080/",
          "height": 758
        },
        "id": "m9AWoGy-wAY0",
        "outputId": "5d00b910-e19b-4ee0-d7d9-c0e10dca71e4"
      },
      "outputs": [
        {
          "data": {
            "text/plain": [
              "<matplotlib.axes._subplots.AxesSubplot at 0x7f0c37f28350>"
            ]
          },
          "execution_count": 177,
          "metadata": {},
          "output_type": "execute_result"
        },
        {
          "data": {
            "image/png": "[encoded data removed]",
            "text/plain": [
              "<Figure size 1440x1080 with 2 Axes>"
            ]
          },
          "metadata": {
            "needs_background": "light"
          },
          "output_type": "display_data"
        }
      ],
      "source": [
        "# Plot heatmap pada df\n",
        "plt.subplots(figsize=(20,15))\n",
        "sns.heatmap(df.corr(), annot=True)"
      ]
    },
    {
      "cell_type": "markdown",
      "metadata": {
        "id": "OhPSI9WfwAY1"
      },
      "source": [
        "Terlihat bahwa mayoritas korelasi antar kolom hampir bernilai 0. Beberapa kolom yang memiliki korelasi yang sedikit jauh dari 0 adalah:\n",
        "\n",
        "- bacteria dan viruses (0.62)\n",
        "- chloramine dan perchlorate (0.59)\n",
        "- chloramine dan chromium (0.56)\n",
        "\n",
        "dan kolom-kolom yang memiliki korelasi yang kuat dengan kolom is_safe adalah: \n",
        "\n",
        "- aluminium (0.33)\n",
        "- cadmium (-0.26)"
      ]
    },
    {
      "cell_type": "code",
      "execution_count": 178,
      "metadata": {
        "colab": {
          "base_uri": "https://localhost:8080/",
          "height": 296
        },
        "id": "pPiMvRGWwAY2",
        "outputId": "2c7ad1d0-4fbe-4c97-b1a2-fdf7c3ef72a5"
      },
      "outputs": [
        {
          "data": {
            "text/plain": [
              "<matplotlib.axes._subplots.AxesSubplot at 0x7f0c38d77e10>"
            ]
          },
          "execution_count": 178,
          "metadata": {},
          "output_type": "execute_result"
        },
        {
          "data": {
            "image/png": "[encoded data removed]",
            "text/plain": [
              "<Figure size 432x288 with 1 Axes>"
            ]
          },
          "metadata": {
            "needs_background": "light"
          },
          "output_type": "display_data"
        }
      ],
      "source": [
        "# Plot grafik hubungan 'bacteria' dan 'viruses'\n",
        "sns.scatterplot(data=df, x='bacteria',y='viruses', hue='is_safe')"
      ]
    },
    {
      "cell_type": "markdown",
      "metadata": {
        "id": "97bSnpL4wAY3"
      },
      "source": [
        "Pada grafik bacteria-viruses terlihat bahwa air yang aman untuk dikonsumsi berada pada ujung kiri bawah. Hal ini dapat menyimpulkan bahwa air yang aman untuk dikonsumsi adalah air yang tidak terkontaminasi oleh bakteri dan virus. Grafik di atas juga menginformasikan bahwa kehadiran bakteri juga mempengaruhi kehadiran virus, begitu juga sebaliknya."
      ]
    },
    {
      "cell_type": "code",
      "execution_count": 179,
      "metadata": {
        "colab": {
          "base_uri": "https://localhost:8080/",
          "height": 296
        },
        "id": "dfAhZjiSwAY4",
        "outputId": "6475e133-2bac-420c-9c52-a24b8456336f"
      },
      "outputs": [
        {
          "data": {
            "text/plain": [
              "<matplotlib.axes._subplots.AxesSubplot at 0x7f0c3771dd50>"
            ]
          },
          "execution_count": 179,
          "metadata": {},
          "output_type": "execute_result"
        },
        {
          "data": {
            "image/png": "[encoded data removed]",
            "text/plain": [
              "<Figure size 432x288 with 1 Axes>"
            ]
          },
          "metadata": {
            "needs_background": "light"
          },
          "output_type": "display_data"
        }
      ],
      "source": [
        "# Plot grafik hubungan 'aluminium' dan 'is_safe'\n",
        "sns.scatterplot(data=df, x='aluminium',y='aluminium', hue='is_safe')"
      ]
    },
    {
      "cell_type": "markdown",
      "metadata": {
        "id": "sGG2tKW7wAY5"
      },
      "source": [
        "Pada grafik di atas menunjukkan bahwa air yang aman untuk dikonsumsi berada paling banyak pada ujung kiri bawah sehingga menunjukkan bahwa konsentrasi aluminimum pada air mempengaruhi kualitas air tersebut."
      ]
    },
    {
      "cell_type": "code",
      "execution_count": 180,
      "metadata": {
        "colab": {
          "base_uri": "https://localhost:8080/",
          "height": 296
        },
        "id": "KudCFgGFwAY6",
        "outputId": "52c0a2e2-65a4-4b6f-fdf4-bfa4acc80ece"
      },
      "outputs": [
        {
          "data": {
            "text/plain": [
              "<matplotlib.axes._subplots.AxesSubplot at 0x7f0c3902b390>"
            ]
          },
          "execution_count": 180,
          "metadata": {},
          "output_type": "execute_result"
        },
        {
          "data": {
            "image/png": "[encoded data removed]",
            "text/plain": [
              "<Figure size 432x288 with 1 Axes>"
            ]
          },
          "metadata": {
            "needs_background": "light"
          },
          "output_type": "display_data"
        }
      ],
      "source": [
        "# Plot grafik hubungan 'cadmium' dan 'is_safe'\n",
        "sns.scatterplot(data=df, x='cadmium',y='cadmium', hue='is_safe')"
      ]
    },
    {
      "cell_type": "markdown",
      "metadata": {
        "id": "rDtg4xh6wAY6"
      },
      "source": [
        "Pada grafik di atas menunjukkan bahwa air yang aman untuk dikonsumsi berada paling banyak pada ujung kiri bawah sehingga menunjukkan bahwa konsentrasi cadmium pada air mempengaruhi kualitas air tersebut. Kesimpulan ini mirip dengan grafik pada aluminimum, namun nilai korelasi antar keduanya sangat berjauhan. Hal ini menjadi kontradiktif dan ada kemungkinan terjadi kesalahan dalam pengambilan data. Walaupun begitu, data ini tetap dipakai dalam pekerjaan ini karena tidak ada referensi lain yang disediakan oleh sumber data ini."
      ]
    },
    {
      "cell_type": "markdown",
      "metadata": {
        "id": "_ifoAy68jb_0"
      },
      "source": [
        "## Data Preprocessing"
      ]
    },
    {
      "cell_type": "code",
      "execution_count": 181,
      "metadata": {
        "colab": {
          "base_uri": "https://localhost:8080/",
          "height": 488
        },
        "id": "VDC2trcXwAY7",
        "outputId": "e24ef187-1ac6-4ad2-b87d-c26dbdddd446"
      },
      "outputs": [
        {
          "data": {
            "text/html": [
              "\n",
              "  <div id=\"df-6af78d9c-c300-4c80-b9ad-621a34687856\">\n",
              "    <div class=\"colab-df-container\">\n",
              "      <div>\n",
              "<style scoped>\n",
              "    .dataframe tbody tr th:only-of-type {\n",
              "        vertical-align: middle;\n",
              "    }\n",
              "\n",
              "    .dataframe tbody tr th {\n",
              "        vertical-align: top;\n",
              "    }\n",
              "\n",
              "    .dataframe thead th {\n",
              "        text-align: right;\n",
              "    }\n",
              "</style>\n",
              "<table border=\"1\" class=\"dataframe\">\n",
              "  <thead>\n",
              "    <tr style=\"text-align: right;\">\n",
              "      <th></th>\n",
              "      <th>aluminium</th>\n",
              "      <th>ammonia</th>\n",
              "      <th>arsenic</th>\n",
              "      <th>barium</th>\n",
              "      <th>cadmium</th>\n",
              "      <th>chloramine</th>\n",
              "      <th>chromium</th>\n",
              "      <th>copper</th>\n",
              "      <th>flouride</th>\n",
              "      <th>bacteria</th>\n",
              "      <th>viruses</th>\n",
              "      <th>lead</th>\n",
              "      <th>nitrates</th>\n",
              "      <th>nitrites</th>\n",
              "      <th>mercury</th>\n",
              "      <th>perchlorate</th>\n",
              "      <th>radium</th>\n",
              "      <th>selenium</th>\n",
              "      <th>silver</th>\n",
              "      <th>uranium</th>\n",
              "    </tr>\n",
              "  </thead>\n",
              "  <tbody>\n",
              "    <tr>\n",
              "      <th>0</th>\n",
              "      <td>1.65</td>\n",
              "      <td>9.08</td>\n",
              "      <td>0.04</td>\n",
              "      <td>2.85</td>\n",
              "      <td>0.007</td>\n",
              "      <td>0.35</td>\n",
              "      <td>0.83</td>\n",
              "      <td>0.17</td>\n",
              "      <td>0.05</td>\n",
              "      <td>0.20</td>\n",
              "      <td>0.000</td>\n",
              "      <td>0.054</td>\n",
              "      <td>16.08</td>\n",
              "      <td>1.13</td>\n",
              "      <td>0.007</td>\n",
              "      <td>37.75</td>\n",
              "      <td>6.78</td>\n",
              "      <td>0.08</td>\n",
              "      <td>0.34</td>\n",
              "      <td>0.02</td>\n",
              "    </tr>\n",
              "    <tr>\n",
              "      <th>1</th>\n",
              "      <td>2.32</td>\n",
              "      <td>21.16</td>\n",
              "      <td>0.01</td>\n",
              "      <td>3.31</td>\n",
              "      <td>0.002</td>\n",
              "      <td>5.28</td>\n",
              "      <td>0.68</td>\n",
              "      <td>0.66</td>\n",
              "      <td>0.90</td>\n",
              "      <td>0.65</td>\n",
              "      <td>0.650</td>\n",
              "      <td>0.100</td>\n",
              "      <td>2.01</td>\n",
              "      <td>1.93</td>\n",
              "      <td>0.003</td>\n",
              "      <td>32.26</td>\n",
              "      <td>3.21</td>\n",
              "      <td>0.08</td>\n",
              "      <td>0.27</td>\n",
              "      <td>0.05</td>\n",
              "    </tr>\n",
              "    <tr>\n",
              "      <th>2</th>\n",
              "      <td>1.01</td>\n",
              "      <td>14.02</td>\n",
              "      <td>0.04</td>\n",
              "      <td>0.58</td>\n",
              "      <td>0.008</td>\n",
              "      <td>4.24</td>\n",
              "      <td>0.53</td>\n",
              "      <td>0.02</td>\n",
              "      <td>0.99</td>\n",
              "      <td>0.05</td>\n",
              "      <td>0.003</td>\n",
              "      <td>0.078</td>\n",
              "      <td>14.16</td>\n",
              "      <td>1.11</td>\n",
              "      <td>0.006</td>\n",
              "      <td>50.28</td>\n",
              "      <td>7.07</td>\n",
              "      <td>0.07</td>\n",
              "      <td>0.44</td>\n",
              "      <td>0.01</td>\n",
              "    </tr>\n",
              "    <tr>\n",
              "      <th>3</th>\n",
              "      <td>1.36</td>\n",
              "      <td>11.33</td>\n",
              "      <td>0.04</td>\n",
              "      <td>2.96</td>\n",
              "      <td>0.001</td>\n",
              "      <td>7.23</td>\n",
              "      <td>0.03</td>\n",
              "      <td>1.66</td>\n",
              "      <td>1.08</td>\n",
              "      <td>0.71</td>\n",
              "      <td>0.710</td>\n",
              "      <td>0.016</td>\n",
              "      <td>1.41</td>\n",
              "      <td>1.29</td>\n",
              "      <td>0.004</td>\n",
              "      <td>9.12</td>\n",
              "      <td>1.72</td>\n",
              "      <td>0.02</td>\n",
              "      <td>0.45</td>\n",
              "      <td>0.05</td>\n",
              "    </tr>\n",
              "    <tr>\n",
              "      <th>4</th>\n",
              "      <td>0.92</td>\n",
              "      <td>24.33</td>\n",
              "      <td>0.03</td>\n",
              "      <td>0.20</td>\n",
              "      <td>0.006</td>\n",
              "      <td>2.67</td>\n",
              "      <td>0.69</td>\n",
              "      <td>0.57</td>\n",
              "      <td>0.61</td>\n",
              "      <td>0.13</td>\n",
              "      <td>0.001</td>\n",
              "      <td>0.117</td>\n",
              "      <td>6.74</td>\n",
              "      <td>1.11</td>\n",
              "      <td>0.003</td>\n",
              "      <td>16.90</td>\n",
              "      <td>2.41</td>\n",
              "      <td>0.02</td>\n",
              "      <td>0.06</td>\n",
              "      <td>0.02</td>\n",
              "    </tr>\n",
              "    <tr>\n",
              "      <th>...</th>\n",
              "      <td>...</td>\n",
              "      <td>...</td>\n",
              "      <td>...</td>\n",
              "      <td>...</td>\n",
              "      <td>...</td>\n",
              "      <td>...</td>\n",
              "      <td>...</td>\n",
              "      <td>...</td>\n",
              "      <td>...</td>\n",
              "      <td>...</td>\n",
              "      <td>...</td>\n",
              "      <td>...</td>\n",
              "      <td>...</td>\n",
              "      <td>...</td>\n",
              "      <td>...</td>\n",
              "      <td>...</td>\n",
              "      <td>...</td>\n",
              "      <td>...</td>\n",
              "      <td>...</td>\n",
              "      <td>...</td>\n",
              "    </tr>\n",
              "    <tr>\n",
              "      <th>7994</th>\n",
              "      <td>0.05</td>\n",
              "      <td>7.78</td>\n",
              "      <td>0.00</td>\n",
              "      <td>1.95</td>\n",
              "      <td>0.040</td>\n",
              "      <td>0.10</td>\n",
              "      <td>0.03</td>\n",
              "      <td>0.03</td>\n",
              "      <td>1.37</td>\n",
              "      <td>0.00</td>\n",
              "      <td>0.000</td>\n",
              "      <td>0.197</td>\n",
              "      <td>14.29</td>\n",
              "      <td>1.00</td>\n",
              "      <td>0.005</td>\n",
              "      <td>3.57</td>\n",
              "      <td>2.13</td>\n",
              "      <td>0.09</td>\n",
              "      <td>0.06</td>\n",
              "      <td>0.03</td>\n",
              "    </tr>\n",
              "    <tr>\n",
              "      <th>7995</th>\n",
              "      <td>0.05</td>\n",
              "      <td>24.22</td>\n",
              "      <td>0.02</td>\n",
              "      <td>0.59</td>\n",
              "      <td>0.010</td>\n",
              "      <td>0.45</td>\n",
              "      <td>0.02</td>\n",
              "      <td>0.02</td>\n",
              "      <td>1.48</td>\n",
              "      <td>0.00</td>\n",
              "      <td>0.000</td>\n",
              "      <td>0.031</td>\n",
              "      <td>10.27</td>\n",
              "      <td>1.00</td>\n",
              "      <td>0.001</td>\n",
              "      <td>1.48</td>\n",
              "      <td>1.11</td>\n",
              "      <td>0.09</td>\n",
              "      <td>0.10</td>\n",
              "      <td>0.08</td>\n",
              "    </tr>\n",
              "    <tr>\n",
              "      <th>7996</th>\n",
              "      <td>0.09</td>\n",
              "      <td>6.85</td>\n",
              "      <td>0.00</td>\n",
              "      <td>0.61</td>\n",
              "      <td>0.030</td>\n",
              "      <td>0.05</td>\n",
              "      <td>0.05</td>\n",
              "      <td>0.02</td>\n",
              "      <td>0.91</td>\n",
              "      <td>0.00</td>\n",
              "      <td>0.000</td>\n",
              "      <td>0.182</td>\n",
              "      <td>15.92</td>\n",
              "      <td>1.00</td>\n",
              "      <td>0.000</td>\n",
              "      <td>1.35</td>\n",
              "      <td>4.84</td>\n",
              "      <td>0.00</td>\n",
              "      <td>0.04</td>\n",
              "      <td>0.05</td>\n",
              "    </tr>\n",
              "    <tr>\n",
              "      <th>7997</th>\n",
              "      <td>0.01</td>\n",
              "      <td>10.00</td>\n",
              "      <td>0.01</td>\n",
              "      <td>2.00</td>\n",
              "      <td>0.000</td>\n",
              "      <td>2.00</td>\n",
              "      <td>0.00</td>\n",
              "      <td>0.09</td>\n",
              "      <td>0.00</td>\n",
              "      <td>0.00</td>\n",
              "      <td>0.000</td>\n",
              "      <td>0.000</td>\n",
              "      <td>0.00</td>\n",
              "      <td>0.00</td>\n",
              "      <td>0.000</td>\n",
              "      <td>0.00</td>\n",
              "      <td>0.00</td>\n",
              "      <td>0.00</td>\n",
              "      <td>0.00</td>\n",
              "      <td>0.00</td>\n",
              "    </tr>\n",
              "    <tr>\n",
              "      <th>7998</th>\n",
              "      <td>0.04</td>\n",
              "      <td>6.85</td>\n",
              "      <td>0.01</td>\n",
              "      <td>0.70</td>\n",
              "      <td>0.030</td>\n",
              "      <td>0.05</td>\n",
              "      <td>0.01</td>\n",
              "      <td>0.03</td>\n",
              "      <td>1.00</td>\n",
              "      <td>0.00</td>\n",
              "      <td>0.000</td>\n",
              "      <td>0.182</td>\n",
              "      <td>15.92</td>\n",
              "      <td>1.00</td>\n",
              "      <td>0.000</td>\n",
              "      <td>1.35</td>\n",
              "      <td>4.84</td>\n",
              "      <td>0.00</td>\n",
              "      <td>0.04</td>\n",
              "      <td>0.05</td>\n",
              "    </tr>\n",
              "  </tbody>\n",
              "</table>\n",
              "<p>7999 rows × 20 columns</p>\n",
              "</div>\n",
              "      <button class=\"colab-df-convert\" onclick=\"convertToInteractive('df-6af78d9c-c300-4c80-b9ad-621a34687856')\"\n",
              "              title=\"Convert this dataframe to an interactive table.\"\n",
              "              style=\"display:none;\">\n",
              "        \n",
              "  <svg xmlns=\"http://www.w3.org/2000/svg\" height=\"24px\"viewBox=\"0 0 24 24\"\n",
              "       width=\"24px\">\n",
              "    <path d=\"M0 0h24v24H0V0z\" fill=\"none\"/>\n",
              "    <path d=\"M18.56 5.44l.94 2.06.94-2.06 2.06-.94-2.06-.94-.94-2.06-.94 2.06-2.06.94zm-11 1L8.5 8.5l.94-2.06 2.06-.94-2.06-.94L8.5 2.5l-.94 2.06-2.06.94zm10 10l.94 2.06.94-2.06 2.06-.94-2.06-.94-.94-2.06-.94 2.06-2.06.94z\"/><path d=\"M17.41 7.96l-1.37-1.37c-.4-.4-.92-.59-1.43-.59-.52 0-1.04.2-1.43.59L10.3 9.45l-7.72 7.72c-.78.78-.78 2.05 0 2.83L4 21.41c.39.39.9.59 1.41.59.51 0 1.02-.2 1.41-.59l7.78-7.78 2.81-2.81c.8-.78.8-2.07 0-2.86zM5.41 20L4 18.59l7.72-7.72 1.47 1.35L5.41 20z\"/>\n",
              "  </svg>\n",
              "      </button>\n",
              "      \n",
              "  <style>\n",
              "    .colab-df-container {\n",
              "      display:flex;\n",
              "      flex-wrap:wrap;\n",
              "      gap: 12px;\n",
              "    }\n",
              "\n",
              "    .colab-df-convert {\n",
              "      background-color: #E8F0FE;\n",
              "      border: none;\n",
              "      border-radius: 50%;\n",
              "      cursor: pointer;\n",
              "      display: none;\n",
              "      fill: #1967D2;\n",
              "      height: 32px;\n",
              "      padding: 0 0 0 0;\n",
              "      width: 32px;\n",
              "    }\n",
              "\n",
              "    .colab-df-convert:hover {\n",
              "      background-color: #E2EBFA;\n",
              "      box-shadow: 0px 1px 2px rgba(60, 64, 67, 0.3), 0px 1px 3px 1px rgba(60, 64, 67, 0.15);\n",
              "      fill: #174EA6;\n",
              "    }\n",
              "\n",
              "    [theme=dark] .colab-df-convert {\n",
              "      background-color: #3B4455;\n",
              "      fill: #D2E3FC;\n",
              "    }\n",
              "\n",
              "    [theme=dark] .colab-df-convert:hover {\n",
              "      background-color: #434B5C;\n",
              "      box-shadow: 0px 1px 3px 1px rgba(0, 0, 0, 0.15);\n",
              "      filter: drop-shadow(0px 1px 2px rgba(0, 0, 0, 0.3));\n",
              "      fill: #FFFFFF;\n",
              "    }\n",
              "  </style>\n",
              "\n",
              "      <script>\n",
              "        const buttonEl =\n",
              "          document.querySelector('#df-6af78d9c-c300-4c80-b9ad-621a34687856 button.colab-df-convert');\n",
              "        buttonEl.style.display =\n",
              "          google.colab.kernel.accessAllowed ? 'block' : 'none';\n",
              "\n",
              "        async function convertToInteractive(key) {\n",
              "          const element = document.querySelector('#df-6af78d9c-c300-4c80-b9ad-621a34687856');\n",
              "          const dataTable =\n",
              "            await google.colab.kernel.invokeFunction('convertToInteractive',\n",
              "                                                     [key], {});\n",
              "          if (!dataTable) return;\n",
              "\n",
              "          const docLinkHtml = 'Like what you see? Visit the ' +\n",
              "            '<a target=\"_blank\" href=https://colab.research.google.com/notebooks/data_table.ipynb>data table notebook</a>'\n",
              "            + ' to learn more about interactive tables.';\n",
              "          element.innerHTML = '';\n",
              "          dataTable['output_type'] = 'display_data';\n",
              "          await google.colab.output.renderOutput(dataTable, element);\n",
              "          const docLink = document.createElement('div');\n",
              "          docLink.innerHTML = docLinkHtml;\n",
              "          element.appendChild(docLink);\n",
              "        }\n",
              "      </script>\n",
              "    </div>\n",
              "  </div>\n",
              "  "
            ],
            "text/plain": [
              "      aluminium  ammonia  arsenic  barium  ...  radium  selenium  silver  uranium\n",
              "0          1.65     9.08     0.04    2.85  ...    6.78      0.08    0.34     0.02\n",
              "1          2.32    21.16     0.01    3.31  ...    3.21      0.08    0.27     0.05\n",
              "2          1.01    14.02     0.04    0.58  ...    7.07      0.07    0.44     0.01\n",
              "3          1.36    11.33     0.04    2.96  ...    1.72      0.02    0.45     0.05\n",
              "4          0.92    24.33     0.03    0.20  ...    2.41      0.02    0.06     0.02\n",
              "...         ...      ...      ...     ...  ...     ...       ...     ...      ...\n",
              "7994       0.05     7.78     0.00    1.95  ...    2.13      0.09    0.06     0.03\n",
              "7995       0.05    24.22     0.02    0.59  ...    1.11      0.09    0.10     0.08\n",
              "7996       0.09     6.85     0.00    0.61  ...    4.84      0.00    0.04     0.05\n",
              "7997       0.01    10.00     0.01    2.00  ...    0.00      0.00    0.00     0.00\n",
              "7998       0.04     6.85     0.01    0.70  ...    4.84      0.00    0.04     0.05\n",
              "\n",
              "[7999 rows x 20 columns]"
            ]
          },
          "execution_count": 181,
          "metadata": {},
          "output_type": "execute_result"
        }
      ],
      "source": [
        "# Definisi data X\n",
        "X = df.drop([\"is_safe\"], axis = 1)\n",
        "X"
      ]
    },
    {
      "cell_type": "code",
      "execution_count": 182,
      "metadata": {
        "colab": {
          "base_uri": "https://localhost:8080/"
        },
        "id": "ljIpvjqfwAY7",
        "outputId": "29164d26-789e-458a-b932-198c541e422e"
      },
      "outputs": [
        {
          "data": {
            "text/plain": [
              "0       1.0\n",
              "1       1.0\n",
              "2       0.0\n",
              "3       1.0\n",
              "4       1.0\n",
              "       ... \n",
              "7994    1.0\n",
              "7995    1.0\n",
              "7996    1.0\n",
              "7997    1.0\n",
              "7998    1.0\n",
              "Name: is_safe, Length: 7999, dtype: float64"
            ]
          },
          "execution_count": 182,
          "metadata": {},
          "output_type": "execute_result"
        }
      ],
      "source": [
        "# Definisi data y\n",
        "y = df[\"is_safe\"]\n",
        "y"
      ]
    },
    {
      "cell_type": "code",
      "execution_count": 183,
      "metadata": {
        "id": "t2LEum7JwAY8"
      },
      "outputs": [],
      "source": [
        "# Split data menjadi data traintest dan data inference\n",
        "X_traintest, X_inf, y_traintest, y_inf = train_test_split(X, y, test_size=0.001)"
      ]
    },
    {
      "cell_type": "code",
      "execution_count": 184,
      "metadata": {
        "id": "SSJe8KFywAY-"
      },
      "outputs": [],
      "source": [
        "# Split data menjadi data train dan data test\n",
        "X_train, X_test, y_train, y_test = train_test_split(X_traintest, y_traintest, test_size=0.3)"
      ]
    },
    {
      "cell_type": "code",
      "execution_count": 185,
      "metadata": {
        "id": "vRsm2g4awAY-"
      },
      "outputs": [],
      "source": [
        "# Bentuk fungsi untuk menunjukkan plot grafik data\n",
        "def diagnostic_plots(df, variable):\n",
        "    # Define figure size\n",
        "    plt.figure(figsize=(16, 4))\n",
        "\n",
        "    # Histogram\n",
        "    plt.subplot(1, 2, 1)\n",
        "    sns.histplot(df[variable], bins=30)\n",
        "    plt.title('Histogram')\n",
        "\n",
        "    # Boxplot\n",
        "    plt.subplot(1, 2, 2)\n",
        "    sns.boxplot(y=df[variable])\n",
        "    plt.title('Boxplot')\n",
        "\n",
        "    plt.show()"
      ]
    },
    {
      "cell_type": "code",
      "execution_count": 186,
      "metadata": {
        "colab": {
          "base_uri": "https://localhost:8080/",
          "height": 1000
        },
        "id": "pUcnsunswAY_",
        "outputId": "736f4976-6959-4c5d-c92d-23d09cddd988"
      },
      "outputs": [
        {
          "data": {
            "image/png": "[encoded data removed]",
            "text/plain": [
              "<Figure size 1152x288 with 2 Axes>"
            ]
          },
          "metadata": {
            "needs_background": "light"
          },
          "output_type": "display_data"
        },
        {
          "name": "stdout",
          "output_type": "stream",
          "text": [
            "Skewness value for aluminium :  2.0022919782073245\n"
          ]
        },
        {
          "data": {
            "image/png": "[encoded data removed]",
            "text/plain": [
              "<Figure size 1152x288 with 2 Axes>"
            ]
          },
          "metadata": {
            "needs_background": "light"
          },
          "output_type": "display_data"
        },
        {
          "name": "stdout",
          "output_type": "stream",
          "text": [
            "Skewness value for ammonia :  0.038615163252652476\n"
          ]
        },
        {
          "data": {
            "image/png": "[encoded data removed]",
            "text/plain": [
              "<Figure size 1152x288 with 2 Axes>"
            ]
          },
          "metadata": {
            "needs_background": "light"
          },
          "output_type": "display_data"
        },
        {
          "name": "stdout",
          "output_type": "stream",
          "text": [
            "Skewness value for arsenic :  1.9819838403817087\n"
          ]
        },
        {
          "data": {
            "image/png": "[encoded data removed]",
            "text/plain": [
              "<Figure size 1152x288 with 2 Axes>"
            ]
          },
          "metadata": {
            "needs_background": "light"
          },
          "output_type": "display_data"
        },
        {
          "name": "stdout",
          "output_type": "stream",
          "text": [
            "Skewness value for barium :  0.6560099456439749\n"
          ]
        },
        {
          "data": {
            "image/png": "[encoded data removed]",
            "text/plain": [
              "<Figure size 1152x288 with 2 Axes>"
            ]
          },
          "metadata": {
            "needs_background": "light"
          },
          "output_type": "display_data"
        },
        {
          "name": "stdout",
          "output_type": "stream",
          "text": [
            "Skewness value for cadmium :  0.4776949681378371\n"
          ]
        },
        {
          "data": {
            "image/png": "[encoded data removed]",
            "text/plain": [
              "<Figure size 1152x288 with 2 Axes>"
            ]
          },
          "metadata": {
            "needs_background": "light"
          },
          "output_type": "display_data"
        },
        {
          "name": "stdout",
          "output_type": "stream",
          "text": [
            "Skewness value for chloramine :  0.8978213407520846\n"
          ]
        },
        {
          "data": {
            "image/png": "[encoded data removed]",
            "text/plain": [
              "<Figure size 1152x288 with 2 Axes>"
            ]
          },
          "metadata": {
            "needs_background": "light"
          },
          "output_type": "display_data"
        },
        {
          "name": "stdout",
          "output_type": "stream",
          "text": [
            "Skewness value for chromium :  1.0326853913617722\n"
          ]
        },
        {
          "data": {
            "image/png": "[encoded data removed]",
            "text/plain": [
              "<Figure size 1152x288 with 2 Axes>"
            ]
          },
          "metadata": {
            "needs_background": "light"
          },
          "output_type": "display_data"
        },
        {
          "name": "stdout",
          "output_type": "stream",
          "text": [
            "Skewness value for copper :  0.23454300282484314\n"
          ]
        },
        {
          "data": {
            "image/png": "[encoded data removed]",
            "text/plain": [
              "<Figure size 1152x288 with 2 Axes>"
            ]
          },
          "metadata": {
            "needs_background": "light"
          },
          "output_type": "display_data"
        },
        {
          "name": "stdout",
          "output_type": "stream",
          "text": [
            "Skewness value for flouride :  -0.027924057565556805\n"
          ]
        },
        {
          "data": {
            "image/png": "[encoded data removed]",
            "text/plain": [
              "<Figure size 1152x288 with 2 Axes>"
            ]
          },
          "metadata": {
            "needs_background": "light"
          },
          "output_type": "display_data"
        },
        {
          "name": "stdout",
          "output_type": "stream",
          "text": [
            "Skewness value for bacteria :  0.5393570653957317\n"
          ]
        },
        {
          "data": {
            "image/png": "[encoded data removed]",
            "text/plain": [
              "<Figure size 1152x288 with 2 Axes>"
            ]
          },
          "metadata": {
            "needs_background": "light"
          },
          "output_type": "display_data"
        },
        {
          "name": "stdout",
          "output_type": "stream",
          "text": [
            "Skewness value for viruses :  0.422864663351907\n"
          ]
        },
        {
          "data": {
            "image/png": "[encoded data removed]",
            "text/plain": [
              "<Figure size 1152x288 with 2 Axes>"
            ]
          },
          "metadata": {
            "needs_background": "light"
          },
          "output_type": "display_data"
        },
        {
          "name": "stdout",
          "output_type": "stream",
          "text": [
            "Skewness value for lead :  -0.061232194659183614\n"
          ]
        },
        {
          "data": {
            "image/png": "[encoded data removed]",
            "text/plain": [
              "<Figure size 1152x288 with 2 Axes>"
            ]
          },
          "metadata": {
            "needs_background": "light"
          },
          "output_type": "display_data"
        },
        {
          "name": "stdout",
          "output_type": "stream",
          "text": [
            "Skewness value for nitrates :  -0.04260403486869498\n"
          ]
        },
        {
          "data": {
            "image/png": "[encoded data removed]",
            "text/plain": [
              "<Figure size 1152x288 with 2 Axes>"
            ]
          },
          "metadata": {
            "needs_background": "light"
          },
          "output_type": "display_data"
        },
        {
          "name": "stdout",
          "output_type": "stream",
          "text": [
            "Skewness value for nitrites :  -0.5142743917322138\n"
          ]
        },
        {
          "data": {
            "image/png": "[encoded data removed]",
            "text/plain": [
              "<Figure size 1152x288 with 2 Axes>"
            ]
          },
          "metadata": {
            "needs_background": "light"
          },
          "output_type": "display_data"
        },
        {
          "name": "stdout",
          "output_type": "stream",
          "text": [
            "Skewness value for mercury :  -0.10547588526853284\n"
          ]
        },
        {
          "data": {
            "image/png": "[encoded data removed]",
            "text/plain": [
              "<Figure size 1152x288 with 2 Axes>"
            ]
          },
          "metadata": {
            "needs_background": "light"
          },
          "output_type": "display_data"
        },
        {
          "name": "stdout",
          "output_type": "stream",
          "text": [
            "Skewness value for perchlorate :  0.9407028889615496\n"
          ]
        },
        {
          "data": {
            "image/png": "[encoded data removed]",
            "text/plain": [
              "<Figure size 1152x288 with 2 Axes>"
            ]
          },
          "metadata": {
            "needs_background": "light"
          },
          "output_type": "display_data"
        },
        {
          "name": "stdout",
          "output_type": "stream",
          "text": [
            "Skewness value for radium :  0.5636943513909242\n"
          ]
        },
        {
          "data": {
            "image/png": "[encoded data removed]",
            "text/plain": [
              "<Figure size 1152x288 with 2 Axes>"
            ]
          },
          "metadata": {
            "needs_background": "light"
          },
          "output_type": "display_data"
        },
        {
          "name": "stdout",
          "output_type": "stream",
          "text": [
            "Skewness value for selenium :  0.010418261033086594\n"
          ]
        },
        {
          "data": {
            "image/png": "[encoded data removed]",
            "text/plain": [
              "<Figure size 1152x288 with 2 Axes>"
            ]
          },
          "metadata": {
            "needs_background": "light"
          },
          "output_type": "display_data"
        },
        {
          "name": "stdout",
          "output_type": "stream",
          "text": [
            "Skewness value for silver :  1.025352578890614\n"
          ]
        },
        {
          "data": {
            "image/png": "[encoded data removed]",
            "text/plain": [
              "<Figure size 1152x288 with 2 Axes>"
            ]
          },
          "metadata": {
            "needs_background": "light"
          },
          "output_type": "display_data"
        },
        {
          "name": "stdout",
          "output_type": "stream",
          "text": [
            "Skewness value for uranium :  -0.010360852438378844\n"
          ]
        }
      ],
      "source": [
        "# Menunjukkan plot grafik data numerik\n",
        "for col in X_train.columns:\n",
        "    diagnostic_plots(X_train, col)\n",
        "    print(\"Skewness value for\", col, \": \", X_train[col].skew())"
      ]
    },
    {
      "cell_type": "markdown",
      "metadata": {
        "id": "H8EVwqI0wAZA"
      },
      "source": [
        "\"Skewness Value\" menunjukkan apakah data tersebut terdistribusi normal/Gaussian atau *skewed*. Data yang terdistribusi secara normal/Gaussian memiliki rentang -0.5 <= \"Skewness Value\" <= 0.5 dan sisanya merupakan data yang terdistribusi secara *skewed*. Metode untuk menentukan outlier pada kedua tipe data tersebut berbeda. Terlihat bahwa distribusi data normal dengan distribusi data *skewed* seimbang pada dataset ini."
      ]
    },
    {
      "cell_type": "code",
      "execution_count": 187,
      "metadata": {
        "id": "d1pPBFPgwAZA"
      },
      "outputs": [],
      "source": [
        "# Function to find upper and lower boundaries for normally distributed variables\n",
        "# Calculate the boundaries outside which sit the outliers for a Gaussian distribution\n",
        "\n",
        "def find_normal_boundaries(df, variable):\n",
        "    upper_boundary = df[variable].mean() + 3 * df[variable].std()\n",
        "    lower_boundary = df[variable].mean() - 3 * df[variable].std()\n",
        "\n",
        "    return upper_boundary, lower_boundary"
      ]
    },
    {
      "cell_type": "code",
      "execution_count": 188,
      "metadata": {
        "id": "P7dqI7aewAZB"
      },
      "outputs": [],
      "source": [
        "# Function to find upper and lower boundaries for skewed distributed variables\n",
        "# Let's calculate the boundaries outside which sit the outliers for skewed distributions\n",
        "# Distance passed as an argument, gives us the option to estimate 1.5 times or 3 times the IQR to calculate the boundaries.\n",
        "\n",
        "def find_skewed_boundaries(df, variable, distance):\n",
        "    IQR = df[variable].quantile(0.75) - df[variable].quantile(0.25)\n",
        "\n",
        "    lower_boundary = df[variable].quantile(0.25) - (IQR * distance)\n",
        "    upper_boundary = df[variable].quantile(0.75) + (IQR * distance)\n",
        "\n",
        "    return upper_boundary, lower_boundary"
      ]
    },
    {
      "cell_type": "code",
      "execution_count": 189,
      "metadata": {
        "colab": {
          "base_uri": "https://localhost:8080/"
        },
        "id": "3KdC8wR5wAZB",
        "outputId": "429db59a-6cdc-4944-c03f-0641d8af54a7"
      },
      "outputs": [
        {
          "name": "stdout",
          "output_type": "stream",
          "text": [
            "aluminium_upper_limit :  0.6649999999999999\n",
            "aluminium_lower_limit :  -0.33499999999999996 \n",
            "\n",
            "arsenic_upper_limit :  0.20500000000000002\n",
            "arsenic_lower_limit :  -0.07500000000000001 \n",
            "\n",
            "nitrites_upper_limit :  3.048209865956442\n",
            "nitrites_lower_limit :  -0.37771102812342994\n"
          ]
        }
      ],
      "source": [
        "# calculate boundaries for aluminium\n",
        "aluminium_upper_limit, aluminium_lower_limit = find_skewed_boundaries(X_train, 'aluminium', 1.5)\n",
        "aluminium_upper_limit, aluminium_lower_limit\n",
        "# calculate boundaries for arsenic\n",
        "arsenic_upper_limit, arsenic_lower_limit = find_skewed_boundaries(X_train, 'arsenic', 1.5)\n",
        "arsenic_upper_limit, arsenic_lower_limit\n",
        "# calculate boundaries for nitrites\n",
        "nitrites_upper_limit, nitrites_lower_limit = find_normal_boundaries(X_train, 'nitrites')\n",
        "nitrites_upper_limit, nitrites_lower_limit\n",
        "\n",
        "print('aluminium_upper_limit : ', aluminium_upper_limit)\n",
        "print('aluminium_lower_limit : ', aluminium_lower_limit, '\\n')\n",
        "print('arsenic_upper_limit : ', arsenic_upper_limit)\n",
        "print('arsenic_lower_limit : ', arsenic_lower_limit, '\\n')\n",
        "print('nitrites_upper_limit : ', nitrites_upper_limit)\n",
        "print('nitrites_lower_limit : ', nitrites_lower_limit)"
      ]
    },
    {
      "cell_type": "code",
      "execution_count": 190,
      "metadata": {
        "colab": {
          "base_uri": "https://localhost:8080/"
        },
        "id": "AQoRPn56wAZC",
        "outputId": "7ea15390-5802-4aa1-e57f-0325609f773b"
      },
      "outputs": [
        {
          "name": "stdout",
          "output_type": "stream",
          "text": [
            "Total data : 5593\n",
            "\n",
            "Outlier aluminium : 1215\n",
            "% Outlier aluminium : 21.723583050241373\n",
            "\n",
            "Outlier arsenic : 1141\n",
            "% Outlier arsenic : 20.40050062578223\n",
            "\n",
            "Outlier nitrites : 0\n",
            "% Outlier nitrites : 0.0\n"
          ]
        }
      ],
      "source": [
        "# Persentase Outlier terhadap data\n",
        "\n",
        "print('Total data : {}'.format(len(X_train)))\n",
        "totaldata = len(X_train)\n",
        "print('')\n",
        "print('Outlier aluminium : {}'.format(len(X_train[X_train['aluminium'] > aluminium_upper_limit])))\n",
        "print('% Outlier aluminium : {}'.format(len(X_train[X_train['aluminium'] > aluminium_upper_limit])/len(X_train) * 100))\n",
        "print('')\n",
        "print('Outlier arsenic : {}'.format(len(X_train[X_train['arsenic'] > arsenic_upper_limit])))\n",
        "print('% Outlier arsenic : {}'.format(len(X_train[X_train['arsenic'] > arsenic_upper_limit])/len(X_train) * 100))\n",
        "print('')\n",
        "print('Outlier nitrites : {}'.format(len(X_train[X_train['nitrites'] < nitrites_lower_limit])))\n",
        "print('% Outlier nitrites : {}'.format(len(X_train[X_train['nitrites'] < nitrites_lower_limit])/len(X_train) * 100))"
      ]
    },
    {
      "cell_type": "markdown",
      "metadata": {
        "id": "an4pOaW_wAZC"
      },
      "source": [
        "Terlihat bahwa data aluminium dan data arsenic memiliki outlier > 20% sehingga outlier tersebut tidak perlu ditangani, sedangkan data nitrites tidak memiliki outlier walaupun pada plotbox terlihat adanya sedikit outlier. Hal ini dikarenakan plotbox memiliki prinsip kerja yang lebih sesuai untuk data yang terdistribusi normal, sedangkan distribusi nitrites bersifat *skewed*. "
      ]
    },
    {
      "cell_type": "code",
      "execution_count": 191,
      "metadata": {
        "colab": {
          "base_uri": "https://localhost:8080/"
        },
        "id": "rytWggW7wAZD",
        "outputId": "f81b216e-8fd7-4d8d-d58c-615235a16b7f"
      },
      "outputs": [
        {
          "data": {
            "text/plain": [
              "aluminium      0\n",
              "ammonia        3\n",
              "arsenic        0\n",
              "barium         0\n",
              "cadmium        0\n",
              "chloramine     0\n",
              "chromium       0\n",
              "copper         0\n",
              "flouride       0\n",
              "bacteria       0\n",
              "viruses        0\n",
              "lead           0\n",
              "nitrates       0\n",
              "nitrites       0\n",
              "mercury        0\n",
              "perchlorate    0\n",
              "radium         0\n",
              "selenium       0\n",
              "silver         0\n",
              "uranium        0\n",
              "dtype: int64"
            ]
          },
          "execution_count": 191,
          "metadata": {},
          "output_type": "execute_result"
        }
      ],
      "source": [
        "# Mengecek missing values\n",
        "X_train.isnull().sum()"
      ]
    },
    {
      "cell_type": "code",
      "execution_count": 192,
      "metadata": {
        "colab": {
          "base_uri": "https://localhost:8080/"
        },
        "id": "7qsiFEamwAZD",
        "outputId": "d73df2f8-2dac-4100-ad51-664581bda69d"
      },
      "outputs": [
        {
          "data": {
            "text/plain": [
              "3"
            ]
          },
          "execution_count": 192,
          "metadata": {},
          "output_type": "execute_result"
        }
      ],
      "source": [
        "# Mengecek missing values\n",
        "y_train.isnull().sum()"
      ]
    },
    {
      "cell_type": "markdown",
      "metadata": {
        "id": "rOICJiiLwAZD"
      },
      "source": [
        "Missing values yang terkandung dalam data hanya sedikit sekali, sehingga dapat langsung didrop."
      ]
    },
    {
      "cell_type": "code",
      "execution_count": 193,
      "metadata": {
        "id": "HRyBCecdwAZE"
      },
      "outputs": [],
      "source": [
        "# Pendropan missing values untuk data numerikal\n",
        "X_train.dropna(inplace=True)\n",
        "y_train.dropna(inplace=True)"
      ]
    },
    {
      "cell_type": "code",
      "execution_count": 194,
      "metadata": {
        "colab": {
          "base_uri": "https://localhost:8080/"
        },
        "id": "yW4aAC7PwAZE",
        "outputId": "f1f10140-be4b-4e57-a62c-6de4c537f21d"
      },
      "outputs": [
        {
          "data": {
            "text/plain": [
              "aluminium      0\n",
              "ammonia        0\n",
              "arsenic        0\n",
              "barium         0\n",
              "cadmium        0\n",
              "chloramine     0\n",
              "chromium       0\n",
              "copper         0\n",
              "flouride       0\n",
              "bacteria       0\n",
              "viruses        0\n",
              "lead           0\n",
              "nitrates       0\n",
              "nitrites       0\n",
              "mercury        0\n",
              "perchlorate    0\n",
              "radium         0\n",
              "selenium       0\n",
              "silver         0\n",
              "uranium        0\n",
              "dtype: int64"
            ]
          },
          "execution_count": 194,
          "metadata": {},
          "output_type": "execute_result"
        }
      ],
      "source": [
        "# Mengecek missing values\n",
        "X_train.isnull().sum()"
      ]
    },
    {
      "cell_type": "code",
      "execution_count": 195,
      "metadata": {
        "colab": {
          "base_uri": "https://localhost:8080/"
        },
        "id": "xYJdFbMpwAZE",
        "outputId": "f3adbd75-e584-4fc2-f16f-bc564bfa9349"
      },
      "outputs": [
        {
          "data": {
            "text/plain": [
              "0"
            ]
          },
          "execution_count": 195,
          "metadata": {},
          "output_type": "execute_result"
        }
      ],
      "source": [
        "# Mengecek missing values\n",
        "y_train.isnull().sum()"
      ]
    },
    {
      "cell_type": "code",
      "execution_count": 196,
      "metadata": {
        "id": "HDzj3xEiwAZF"
      },
      "outputs": [],
      "source": [
        "# Menyesuaikan indeks X_train dengan y_train\n",
        "y_train = y_train[X_train.index]"
      ]
    },
    {
      "cell_type": "code",
      "execution_count": 197,
      "metadata": {
        "colab": {
          "base_uri": "https://localhost:8080/",
          "height": 422
        },
        "id": "DHJEiFknwAZF",
        "outputId": "01fb5e26-bb17-4e92-88b1-7eb36c43881b"
      },
      "outputs": [
        {
          "name": "stdout",
          "output_type": "stream",
          "text": [
            "Jumlah persebaran data target y_train : \n",
            "\n"
          ]
        },
        {
          "name": "stderr",
          "output_type": "stream",
          "text": [
            "/usr/local/lib/python3.7/dist-packages/seaborn/_decorators.py:43: FutureWarning: Pass the following variable as a keyword arg: x. From version 0.12, the only valid positional argument will be `data`, and passing other arguments without an explicit keyword will result in an error or misinterpretation.\n",
            "  FutureWarning\n"
          ]
        },
        {
          "data": {
            "text/plain": [
              "0.0    4934\n",
              "1.0     656\n",
              "Name: is_safe, dtype: int64"
            ]
          },
          "execution_count": 197,
          "metadata": {},
          "output_type": "execute_result"
        },
        {
          "data": {
            "image/png": "[encoded data removed]",
            "text/plain": [
              "<Figure size 432x288 with 1 Axes>"
            ]
          },
          "metadata": {
            "needs_background": "light"
          },
          "output_type": "display_data"
        }
      ],
      "source": [
        "# Plot persebaran data target y_train\n",
        "sns.countplot(y_train)\n",
        "# Jumlah persebaran data target y_train\n",
        "print(\"Jumlah persebaran data target y_train : \")\n",
        "print(\"\")\n",
        "y_train.value_counts()"
      ]
    },
    {
      "cell_type": "markdown",
      "metadata": {
        "id": "yTgqawG4wAZF"
      },
      "source": [
        "Plot di atas memberikan informasi bahwa data tersebut bersifat *imbalance* yang artinya salah satu data jauh lebih banyak bila dibandingkan dengan data yang lainnya, dan akan mengakibatkan akurasi tidak sesuai. Untuk menangani hal ini, salah satu caranya adalah dengan melakukan metode OverSampling."
      ]
    },
    {
      "cell_type": "markdown",
      "metadata": {
        "id": "9wRABtSfwAZG"
      },
      "source": [
        "Dalam akhir pekerjaan ini akan dilakukan metode pipeline, sehingga perlu adanya penduplikasian data yang berguna untuk pengujian terhadap model-model klasifikasi yang ada. Data asli akan digunakan metode pipeline, sedangkan data duplikat akan dilakukan pengujian terhadap berbagai model-model."
      ]
    },
    {
      "cell_type": "code",
      "execution_count": 198,
      "metadata": {
        "id": "za3WdHG7wAZG"
      },
      "outputs": [],
      "source": [
        "# Penduplikasian data\n",
        "X_train_1 = X_train.copy()\n",
        "y_train_1 = y_train.copy()"
      ]
    },
    {
      "cell_type": "code",
      "execution_count": 199,
      "metadata": {
        "id": "8SDKVyPJwAZG"
      },
      "outputs": [],
      "source": [
        "# Definisi model scaling\n",
        "stdscaler_1 = StandardScaler()\n",
        "minmax_1 = MinMaxScaler()\n",
        "# Pelatihan model scaling\n",
        "num_features = ['aluminium', 'ammonia', 'arsenic', 'barium', 'cadmium', 'chloramine', \n",
        "                'chromium', 'copper', 'flouride', 'bacteria', 'viruses', 'lead',\n",
        "                'nitrates', 'nitrites', 'mercury', 'perchlorate', 'radium',\n",
        "                'selenium', 'silver', 'uranium']\n",
        "X_train_1[num_features] = stdscaler_1.fit_transform(X_train_1[num_features])\n",
        "#X_train_1[num_features] = minmax_1.fit_transform(X_train_1[num_features])"
      ]
    },
    {
      "cell_type": "code",
      "execution_count": 200,
      "metadata": {
        "colab": {
          "base_uri": "https://localhost:8080/",
          "height": 387
        },
        "id": "D-oEnEgqwAZG",
        "outputId": "5d74ff0a-bdae-4ee5-e17c-e61c3f8da0c2"
      },
      "outputs": [
        {
          "name": "stderr",
          "output_type": "stream",
          "text": [
            "/usr/local/lib/python3.7/dist-packages/seaborn/_decorators.py:43: FutureWarning: Pass the following variable as a keyword arg: x. From version 0.12, the only valid positional argument will be `data`, and passing other arguments without an explicit keyword will result in an error or misinterpretation.\n",
            "  FutureWarning\n"
          ]
        },
        {
          "data": {
            "text/plain": [
              "0.0    4934\n",
              "1.0    4934\n",
              "Name: is_safe, dtype: int64"
            ]
          },
          "execution_count": 200,
          "metadata": {},
          "output_type": "execute_result"
        },
        {
          "data": {
            "image/png": "[encoded data removed]",
            "text/plain": [
              "<Figure size 432x288 with 1 Axes>"
            ]
          },
          "metadata": {
            "needs_background": "light"
          },
          "output_type": "display_data"
        }
      ],
      "source": [
        "# Definisi metode over sampling\n",
        "ros_1 = RandomOverSampler()\n",
        "smote_1 = SMOTE()\n",
        "svmsmote_1 = SVMSMOTE()\n",
        "adasyn_1 = ADASYN()\n",
        "# resampling X_train_1, y_train_1\n",
        "#X_train_1, y_train_1 = ros_1.fit_resample(X_train_1, y_train_1)\n",
        "X_train_1, y_train_1 = smote_1.fit_resample(X_train_1, y_train_1)\n",
        "#X_train_1, y_train_1 = svmsmote_1.fit_resample(X_train_1, y_train_1)\n",
        "#X_train_1, y_train_1 = adasyn_1.fit_resample(X_train_1, y_train_1)\n",
        "# Plot persebaran data target y_train setelah oversampling\n",
        "sns.countplot(y_train_1)\n",
        "# Jumlah persebaran data target y_train setelah oversampling\n",
        "y_train_1.value_counts()"
      ]
    },
    {
      "cell_type": "markdown",
      "metadata": {
        "id": "ATNGSRSjwAZH"
      },
      "source": [
        "Dengan metode oversampling, maka data-data tersebut tidak lagi imbalance."
      ]
    },
    {
      "cell_type": "markdown",
      "metadata": {
        "id": "PDrDMMfTwAZH"
      },
      "source": [
        "Setelah penanganan data train, maka akan dilakukan penanganan terhadap data test."
      ]
    },
    {
      "cell_type": "code",
      "execution_count": 201,
      "metadata": {
        "id": "qCZ4FFXMwAZH"
      },
      "outputs": [],
      "source": [
        "# Pendropan missing values untuk data numerikal\n",
        "X_test.dropna(inplace=True)\n",
        "y_test.dropna(inplace=True)\n",
        "# Menyesuaikan indeks X_test dengan y_test\n",
        "y_test = y_test[X_test.index]\n",
        "# Penduplikasian data\n",
        "X_test_1 = X_test.copy()\n",
        "y_test_1 = y_test.copy()\n",
        "# Pelatihan model scaling\n",
        "X_test_1[num_features] = stdscaler_1.transform(X_test_1[num_features])\n",
        "#X_test_1[num_features] = minmax_1.transform(X_test_1[num_features])"
      ]
    },
    {
      "cell_type": "markdown",
      "metadata": {
        "id": "Om_H2OL3j8XD"
      },
      "source": [
        "## Model Definition"
      ]
    },
    {
      "cell_type": "code",
      "execution_count": 202,
      "metadata": {
        "id": "gV0Zd4kBwAZI"
      },
      "outputs": [],
      "source": [
        "# Definisi model logistic regression\n",
        "logit_1 = LogisticRegression()\n",
        "# Definisi model SVM\n",
        "svm_1 = SVC()\n",
        "# Definisi model KNN\n",
        "knn_1 = KNeighborsClassifier()\n",
        "# Definisi model SGD\n",
        "sgd_1 = SGDClassifier()\n",
        "# Definisi model GNB\n",
        "gnb_1 = GaussianNB()\n",
        "# Definisi model decision tree\n",
        "dt_1 = DecisionTreeClassifier()\n",
        "# Definisi model random forest\n",
        "rf_1 = RandomForestClassifier()"
      ]
    },
    {
      "cell_type": "markdown",
      "metadata": {
        "id": "XOjVKS9oj_c-"
      },
      "source": [
        "## Model Training"
      ]
    },
    {
      "cell_type": "code",
      "execution_count": 203,
      "metadata": {
        "colab": {
          "base_uri": "https://localhost:8080/"
        },
        "id": "57dkGrbzwAZJ",
        "outputId": "c1ad9f94-1b65-41ca-aabd-de1bcadee71e"
      },
      "outputs": [
        {
          "data": {
            "text/plain": [
              "SGDClassifier()"
            ]
          },
          "execution_count": 203,
          "metadata": {},
          "output_type": "execute_result"
        }
      ],
      "source": [
        "# learn a logistic regression on the scaled training data\n",
        "logit_1.fit(X_train_1, y_train_1)\n",
        "# learn an SVM on the scaled training data\n",
        "svm_1.fit(X_train_1, y_train_1)\n",
        "# learn a knn on the scaled training data\n",
        "knn_1.fit(X_train_1, y_train_1)\n",
        "# learn a decision tree on the scaled training data\n",
        "dt_1.fit(X_train_1, y_train_1)\n",
        "# learn a random forest on the scaled training data\n",
        "rf_1.fit(X_train_1, y_train_1)\n",
        "# learn a gnb on the scaled training data\n",
        "gnb_1.fit(X_train_1, y_train_1)\n",
        "# learn an sgd on the scaled training data\n",
        "sgd_1.fit(X_train_1, y_train_1)"
      ]
    },
    {
      "cell_type": "markdown",
      "metadata": {
        "id": "5P2AtS6zkIYA"
      },
      "source": [
        "## Model Evaluation"
      ]
    },
    {
      "cell_type": "code",
      "execution_count": 204,
      "metadata": {
        "id": "gO8TQsCQwAZJ"
      },
      "outputs": [],
      "source": [
        "# Membuat data prediksi dengan logistic regression\n",
        "y_train_1_pred_1 = logit_1.predict(X_train_1)\n",
        "y_pred_1_1 = logit_1.predict(X_test_1)\n",
        "# Membuat data prediksi dengan SVM\n",
        "y_train_1_pred_2 = svm_1.predict(X_train_1)\n",
        "y_pred_1_2 = svm_1.predict(X_test_1)\n",
        "# Membuat data prediksi dengan KNN\n",
        "y_train_1_pred_3 = knn_1.predict(X_train_1)\n",
        "y_pred_1_3 = knn_1.predict(X_test_1)\n",
        "# Membuat data prediksi dengan decision tree\n",
        "y_train_1_pred_4 = dt_1.predict(X_train_1)\n",
        "y_pred_1_4 = dt_1.predict(X_test_1)\n",
        "# Membuat data prediksi dengan random forest\n",
        "y_train_1_pred_5 = rf_1.predict(X_train_1)\n",
        "y_pred_1_5 = rf_1.predict(X_test_1)\n",
        "# Membuat data prediksi dengan gnb\n",
        "y_train_1_pred_6 = gnb_1.predict(X_train_1)\n",
        "y_pred_1_6 = gnb_1.predict(X_test_1)\n",
        "# Membuat data prediksi dengan sgd\n",
        "y_train_1_pred_7 = sgd_1.predict(X_train_1)\n",
        "y_pred_1_7 = sgd_1.predict(X_test_1)"
      ]
    },
    {
      "cell_type": "code",
      "execution_count": 205,
      "metadata": {
        "colab": {
          "base_uri": "https://localhost:8080/"
        },
        "id": "R7CVy8u3wAZJ",
        "outputId": "187c44da-5075-418d-8c69-bc0de8007851"
      },
      "outputs": [
        {
          "name": "stdout",
          "output_type": "stream",
          "text": [
            "classification_report - Logistic Regression - y_train_1 dan y_train_1_pred_1\n",
            "\n",
            "\n",
            "              precision    recall  f1-score   support\n",
            "\n",
            "         0.0       0.78      0.82      0.80      4934\n",
            "         1.0       0.81      0.77      0.79      4934\n",
            "\n",
            "    accuracy                           0.79      9868\n",
            "   macro avg       0.80      0.79      0.79      9868\n",
            "weighted avg       0.80      0.79      0.79      9868\n",
            "\n",
            "\n",
            "classification_report - Logistic Regression - y_test_1 dan y_pred_1_1\n",
            "\n",
            "\n",
            "              precision    recall  f1-score   support\n",
            "\n",
            "         0.0       0.97      0.80      0.88      2142\n",
            "         1.0       0.32      0.77      0.45       256\n",
            "\n",
            "    accuracy                           0.80      2398\n",
            "   macro avg       0.64      0.79      0.67      2398\n",
            "weighted avg       0.90      0.80      0.83      2398\n",
            "\n"
          ]
        }
      ],
      "source": [
        "# Cek classification_report dengan logistic regression\n",
        "print('classification_report - Logistic Regression - y_train_1 dan y_train_1_pred_1')\n",
        "print('\\n')\n",
        "print(classification_report(y_train_1, y_train_1_pred_1))\n",
        "print('')\n",
        "print('classification_report - Logistic Regression - y_test_1 dan y_pred_1_1')\n",
        "print('\\n')\n",
        "print(classification_report(y_test_1, y_pred_1_1))"
      ]
    },
    {
      "cell_type": "code",
      "execution_count": 206,
      "metadata": {
        "colab": {
          "base_uri": "https://localhost:8080/"
        },
        "id": "fZny_6xgwAZK",
        "outputId": "da6d6ade-ce06-4517-a58b-59b0fba225a8"
      },
      "outputs": [
        {
          "name": "stdout",
          "output_type": "stream",
          "text": [
            "classification_report - SVM - y_train_1 dan y_train_1_pred_2\n",
            "\n",
            "\n",
            "              precision    recall  f1-score   support\n",
            "\n",
            "         0.0       0.99      0.95      0.97      4934\n",
            "         1.0       0.95      0.99      0.97      4934\n",
            "\n",
            "    accuracy                           0.97      9868\n",
            "   macro avg       0.97      0.97      0.97      9868\n",
            "weighted avg       0.97      0.97      0.97      9868\n",
            "\n",
            "\n",
            "classification_report - SVM - y_test_1 dan y_pred_1_2\n",
            "\n",
            "\n",
            "              precision    recall  f1-score   support\n",
            "\n",
            "         0.0       0.97      0.94      0.95      2142\n",
            "         1.0       0.59      0.78      0.67       256\n",
            "\n",
            "    accuracy                           0.92      2398\n",
            "   macro avg       0.78      0.86      0.81      2398\n",
            "weighted avg       0.93      0.92      0.92      2398\n",
            "\n"
          ]
        }
      ],
      "source": [
        "# Cek classification_report dengan SVM\n",
        "print('classification_report - SVM - y_train_1 dan y_train_1_pred_2')\n",
        "print('\\n')\n",
        "print(classification_report(y_train_1, y_train_1_pred_2))\n",
        "print('')\n",
        "print('classification_report - SVM - y_test_1 dan y_pred_1_2')\n",
        "print('\\n')\n",
        "print(classification_report(y_test_1, y_pred_1_2))"
      ]
    },
    {
      "cell_type": "code",
      "execution_count": 207,
      "metadata": {
        "colab": {
          "base_uri": "https://localhost:8080/"
        },
        "id": "6MGDaApxwAZK",
        "outputId": "d71f3bff-b97f-4a7e-f40d-0a7283084fba"
      },
      "outputs": [
        {
          "name": "stdout",
          "output_type": "stream",
          "text": [
            "classification_report - KNN - y_train_1 dan y_train_1_pred_3\n",
            "\n",
            "\n",
            "              precision    recall  f1-score   support\n",
            "\n",
            "         0.0       1.00      0.83      0.91      4934\n",
            "         1.0       0.85      1.00      0.92      4934\n",
            "\n",
            "    accuracy                           0.91      9868\n",
            "   macro avg       0.93      0.91      0.91      9868\n",
            "weighted avg       0.93      0.91      0.91      9868\n",
            "\n",
            "\n",
            "classification_report - KNN - y_test_1 dan y_pred_1_3\n",
            "\n",
            "\n",
            "              precision    recall  f1-score   support\n",
            "\n",
            "         0.0       0.97      0.77      0.86      2142\n",
            "         1.0       0.30      0.80      0.43       256\n",
            "\n",
            "    accuracy                           0.78      2398\n",
            "   macro avg       0.63      0.79      0.65      2398\n",
            "weighted avg       0.90      0.78      0.81      2398\n",
            "\n"
          ]
        }
      ],
      "source": [
        "# Cek classification_report dengan KNN\n",
        "print('classification_report - KNN - y_train_1 dan y_train_1_pred_3')\n",
        "print('\\n')\n",
        "print(classification_report(y_train_1, y_train_1_pred_3))\n",
        "print('')\n",
        "print('classification_report - KNN - y_test_1 dan y_pred_1_3')\n",
        "print('\\n')\n",
        "print(classification_report(y_test_1, y_pred_1_3))"
      ]
    },
    {
      "cell_type": "code",
      "execution_count": 208,
      "metadata": {
        "colab": {
          "base_uri": "https://localhost:8080/"
        },
        "id": "stqbG0HdwAZK",
        "outputId": "70061784-fa5e-4672-d07b-fb529339d30d"
      },
      "outputs": [
        {
          "name": "stdout",
          "output_type": "stream",
          "text": [
            "classification_report - decision tree - y_train_1 dan y_train_1_pred_4\n",
            "\n",
            "\n",
            "              precision    recall  f1-score   support\n",
            "\n",
            "         0.0       1.00      1.00      1.00      4934\n",
            "         1.0       1.00      1.00      1.00      4934\n",
            "\n",
            "    accuracy                           1.00      9868\n",
            "   macro avg       1.00      1.00      1.00      9868\n",
            "weighted avg       1.00      1.00      1.00      9868\n",
            "\n",
            "\n",
            "classification_report - decision tree - y_test_1 dan y_pred_1_4\n",
            "\n",
            "\n",
            "              precision    recall  f1-score   support\n",
            "\n",
            "         0.0       0.98      0.96      0.97      2142\n",
            "         1.0       0.72      0.82      0.77       256\n",
            "\n",
            "    accuracy                           0.95      2398\n",
            "   macro avg       0.85      0.89      0.87      2398\n",
            "weighted avg       0.95      0.95      0.95      2398\n",
            "\n"
          ]
        }
      ],
      "source": [
        "# Cek classification_report dengan decision tree\n",
        "print('classification_report - decision tree - y_train_1 dan y_train_1_pred_4')\n",
        "print('\\n')\n",
        "print(classification_report(y_train_1, y_train_1_pred_4))\n",
        "print('')\n",
        "print('classification_report - decision tree - y_test_1 dan y_pred_1_4')\n",
        "print('\\n')\n",
        "print(classification_report(y_test_1, y_pred_1_4))"
      ]
    },
    {
      "cell_type": "code",
      "execution_count": 209,
      "metadata": {
        "colab": {
          "base_uri": "https://localhost:8080/"
        },
        "id": "feRVybuKwAZL",
        "outputId": "8ed93e84-e090-4cfa-e26a-4c199d1973d7"
      },
      "outputs": [
        {
          "name": "stdout",
          "output_type": "stream",
          "text": [
            "classification_report - random forest - y_train_1 dan y_train_1_pred_5\n",
            "\n",
            "\n",
            "              precision    recall  f1-score   support\n",
            "\n",
            "         0.0       1.00      1.00      1.00      4934\n",
            "         1.0       1.00      1.00      1.00      4934\n",
            "\n",
            "    accuracy                           1.00      9868\n",
            "   macro avg       1.00      1.00      1.00      9868\n",
            "weighted avg       1.00      1.00      1.00      9868\n",
            "\n",
            "\n",
            "classification_report - random forest - y_test_1 dan y_pred_1_5\n",
            "\n",
            "\n",
            "              precision    recall  f1-score   support\n",
            "\n",
            "         0.0       0.98      0.97      0.97      2142\n",
            "         1.0       0.78      0.80      0.79       256\n",
            "\n",
            "    accuracy                           0.95      2398\n",
            "   macro avg       0.88      0.89      0.88      2398\n",
            "weighted avg       0.96      0.95      0.95      2398\n",
            "\n"
          ]
        }
      ],
      "source": [
        "# Cek classification_report dengan random forest\n",
        "print('classification_report - random forest - y_train_1 dan y_train_1_pred_5')\n",
        "print('\\n')\n",
        "print(classification_report(y_train_1, y_train_1_pred_5))\n",
        "print('')\n",
        "print('classification_report - random forest - y_test_1 dan y_pred_1_5')\n",
        "print('\\n')\n",
        "print(classification_report(y_test_1, y_pred_1_5))"
      ]
    },
    {
      "cell_type": "code",
      "execution_count": 210,
      "metadata": {
        "colab": {
          "base_uri": "https://localhost:8080/"
        },
        "id": "Io9nUnuIwAZL",
        "outputId": "e4bc5f22-839d-47f3-9acb-5d733472e531"
      },
      "outputs": [
        {
          "name": "stdout",
          "output_type": "stream",
          "text": [
            "classification_report - gnb - y_train_1 dan y_train_1_pred_6\n",
            "\n",
            "\n",
            "              precision    recall  f1-score   support\n",
            "\n",
            "         0.0       0.79      0.79      0.79      4934\n",
            "         1.0       0.79      0.79      0.79      4934\n",
            "\n",
            "    accuracy                           0.79      9868\n",
            "   macro avg       0.79      0.79      0.79      9868\n",
            "weighted avg       0.79      0.79      0.79      9868\n",
            "\n",
            "\n",
            "classification_report - gnb - y_test_1 dan y_pred_1_6\n",
            "\n",
            "\n",
            "              precision    recall  f1-score   support\n",
            "\n",
            "         0.0       0.97      0.78      0.86      2142\n",
            "         1.0       0.30      0.77      0.43       256\n",
            "\n",
            "    accuracy                           0.78      2398\n",
            "   macro avg       0.63      0.78      0.65      2398\n",
            "weighted avg       0.89      0.78      0.82      2398\n",
            "\n"
          ]
        }
      ],
      "source": [
        "# Cek classification_report dengan gnb\n",
        "print('classification_report - gnb - y_train_1 dan y_train_1_pred_6')\n",
        "print('\\n')\n",
        "print(classification_report(y_train_1, y_train_1_pred_6))\n",
        "print('')\n",
        "print('classification_report - gnb - y_test_1 dan y_pred_1_6')\n",
        "print('\\n')\n",
        "print(classification_report(y_test_1, y_pred_1_6))"
      ]
    },
    {
      "cell_type": "code",
      "execution_count": 211,
      "metadata": {
        "colab": {
          "base_uri": "https://localhost:8080/"
        },
        "id": "2rvOrzLcwAZL",
        "outputId": "be9cd495-a1bd-4536-c022-dde9ccbc7ac6"
      },
      "outputs": [
        {
          "name": "stdout",
          "output_type": "stream",
          "text": [
            "classification_report - sgd - y_train_1 dan y_train_1_pred_7\n",
            "\n",
            "\n",
            "              precision    recall  f1-score   support\n",
            "\n",
            "         0.0       0.77      0.82      0.79      4934\n",
            "         1.0       0.80      0.75      0.78      4934\n",
            "\n",
            "    accuracy                           0.78      9868\n",
            "   macro avg       0.79      0.78      0.78      9868\n",
            "weighted avg       0.79      0.78      0.78      9868\n",
            "\n",
            "\n",
            "classification_report - sgd - y_test_1 dan y_pred_1_7\n",
            "\n",
            "\n",
            "              precision    recall  f1-score   support\n",
            "\n",
            "         0.0       0.97      0.81      0.88      2142\n",
            "         1.0       0.33      0.78      0.47       256\n",
            "\n",
            "    accuracy                           0.81      2398\n",
            "   macro avg       0.65      0.80      0.67      2398\n",
            "weighted avg       0.90      0.81      0.84      2398\n",
            "\n"
          ]
        }
      ],
      "source": [
        "# Cek classification_report dengan sgd\n",
        "print('classification_report - sgd - y_train_1 dan y_train_1_pred_7')\n",
        "print('\\n')\n",
        "print(classification_report(y_train_1, y_train_1_pred_7))\n",
        "print('')\n",
        "print('classification_report - sgd - y_test_1 dan y_pred_1_7')\n",
        "print('\\n')\n",
        "print(classification_report(y_test_1, y_pred_1_7))"
      ]
    },
    {
      "cell_type": "markdown",
      "metadata": {
        "id": "g-9SaciDwAZM"
      },
      "source": [
        "Mengingat bahwa data originalnya bersifat imbalance, maka besaran yang dapat dijadikan acuan adalah precision, recall, dan f1-score. Nilai yang paling perlu diperhatikan adalah nilai precision dari label 1.0, karena kita menginginkan agar air yang tidak aman untuk dikonsumsi (label 0.0) tidak terhitung sebagai air yang aman untuk dikonsumsi (label 1.0), yang artinya kita menginginkan agar nilai FP (False Positive) sekecil mungkin. Terlihat bahwa model yang memiliki nilai precision, recall, dan f1-score yang tinggi adalah model random forest sehingga model tersebut akan dipakai sebagai model akhir yang akan dimasukkan ke dalam pipeline. Walau begitu, perlu diadakan Hyperparameter tuning untuk mengoptimalkan model tersebut."
      ]
    },
    {
      "cell_type": "code",
      "execution_count": 212,
      "metadata": {
        "colab": {
          "base_uri": "https://localhost:8080/"
        },
        "id": "bJoBCtxfw4iy",
        "outputId": "0a40ec61-d7de-4655-88cc-45b874e3e21a"
      },
      "outputs": [
        {
          "name": "stdout",
          "output_type": "stream",
          "text": [
            "classification_report - random forest - y_train_1 dan y_train_1_pred_test\n",
            "\n",
            "\n",
            "              precision    recall  f1-score   support\n",
            "\n",
            "         0.0       1.00      1.00      1.00      4934\n",
            "         1.0       1.00      1.00      1.00      4934\n",
            "\n",
            "    accuracy                           1.00      9868\n",
            "   macro avg       1.00      1.00      1.00      9868\n",
            "weighted avg       1.00      1.00      1.00      9868\n",
            "\n",
            "\n",
            "classification_report - random forest - y_test_1 dan y_pred_1_test\n",
            "\n",
            "\n",
            "              precision    recall  f1-score   support\n",
            "\n",
            "         0.0       0.98      0.97      0.97      2142\n",
            "         1.0       0.78      0.82      0.80       256\n",
            "\n",
            "    accuracy                           0.96      2398\n",
            "   macro avg       0.88      0.89      0.89      2398\n",
            "weighted avg       0.96      0.96      0.96      2398\n",
            "\n"
          ]
        }
      ],
      "source": [
        "# Konfigurasi Random Forest\n",
        "rf_test = RandomForestClassifier()\n",
        "# Membangun parameter random grid search\n",
        "n_estimators = [int(x) for x in np.linspace(start=200, stop=2000, num = 10)]\n",
        "max_features = ['auto', 'log2', None]\n",
        "max_depth = [int(x) for x in np.linspace(10, 1000, 10)]\n",
        "min_samples_split = [2, 5, 10, 14]\n",
        "min_samples_leaf = [1, 2, 4, 6, 8]\n",
        "random_grid_test = {'n_estimators': n_estimators,\n",
        "               'max_features':max_features,\n",
        "               'max_depth':max_depth,\n",
        "               'min_samples_split':min_samples_split,\n",
        "               'min_samples_leaf':min_samples_leaf,\n",
        "               'criterion':['entropy','gini']}\n",
        "rf_randomcv_test = RandomizedSearchCV(estimator=rf_test, param_distributions=random_grid_test,\n",
        "                                 n_iter=10,\n",
        "                                 cv=5, random_state=46, n_jobs=-1)\n",
        "# Training data dengan random grid search\n",
        "rf_randomcv_test.fit(X_train_1, y_train_1)\n",
        "# Menentukan parameter terbaik dari random grid search\n",
        "rf_best_random_test = rf_randomcv_test.best_estimator_\n",
        "# prediksi data dengan random grid search\n",
        "y_train_1_pred_test = rf_best_random_test.predict(X_train_1)\n",
        "y_pred_1_test = rf_best_random_test.predict(X_test_1)\n",
        "# Evaluasi data\n",
        "print('classification_report - random forest - y_train_1 dan y_train_1_pred_test')\n",
        "print('\\n')\n",
        "print(classification_report(y_train_1, y_train_1_pred_test))\n",
        "print('')\n",
        "print('classification_report - random forest - y_test_1 dan y_pred_1_test')\n",
        "print('\\n')\n",
        "print(classification_report(y_test_1, y_pred_1_test))"
      ]
    },
    {
      "cell_type": "markdown",
      "metadata": {
        "id": "IAJOVBkpQ8SM"
      },
      "source": [
        "Berdasarkan data di atas maka telah terbukti bahwa hyperparameter tuning mampu mengoptimalkan model Random Forest, dengan adanya peningkatan pada nilai precision, recall, dan F-1 score."
      ]
    },
    {
      "cell_type": "markdown",
      "metadata": {
        "id": "3aD3WhSrRKIx"
      },
      "source": [
        "Langkah selanjutnya dapat dilakukan model Pipeline dengan data asli X_train, X_test, y_train, dan y_test. "
      ]
    },
    {
      "cell_type": "code",
      "execution_count": 213,
      "metadata": {
        "colab": {
          "base_uri": "https://localhost:8080/"
        },
        "id": "lTXVoRIkQ39Y",
        "outputId": "67e851db-f512-4cd0-ef29-45f6a4f0a26b"
      },
      "outputs": [
        {
          "name": "stdout",
          "output_type": "stream",
          "text": [
            "classification_report - random forest - y_train dan y_train_pred\n",
            "\n",
            "\n",
            "              precision    recall  f1-score   support\n",
            "\n",
            "         0.0       1.00      1.00      1.00      4934\n",
            "         1.0       1.00      1.00      1.00       656\n",
            "\n",
            "    accuracy                           1.00      5590\n",
            "   macro avg       1.00      1.00      1.00      5590\n",
            "weighted avg       1.00      1.00      1.00      5590\n",
            "\n",
            "\n",
            "classification_report - random forest - y_test dan y_pred\n",
            "\n",
            "\n",
            "              precision    recall  f1-score   support\n",
            "\n",
            "         0.0       0.98      0.97      0.98      2142\n",
            "         1.0       0.78      0.84      0.81       256\n",
            "\n",
            "    accuracy                           0.96      2398\n",
            "   macro avg       0.88      0.90      0.89      2398\n",
            "weighted avg       0.96      0.96      0.96      2398\n",
            "\n"
          ]
        }
      ],
      "source": [
        "# Membangun model Pipeline\n",
        "pipe = Pipeline(steps = [('stdscaler', StandardScaler()), ('smote', SMOTE()), ('rf', RandomForestClassifier())])\n",
        "# Membangun parameter random grid search\n",
        "random_grid = {'rf__n_estimators': n_estimators,\n",
        "               'rf__max_features':max_features,\n",
        "               'rf__max_depth':max_depth,\n",
        "               'rf__min_samples_split':min_samples_split,\n",
        "               'rf__min_samples_leaf':min_samples_leaf,\n",
        "               'rf__criterion':['entropy','gini']}\n",
        "rf_randomcv = RandomizedSearchCV(estimator=pipe, param_distributions=random_grid,\n",
        "                                 n_iter=10,\n",
        "                                 cv=5, random_state=46, n_jobs=-1)\n",
        "# Training data dengan random grid search\n",
        "rf_randomcv.fit(X_train, y_train)\n",
        "# Menentukan parameter terbaik dari random grid search\n",
        "rf_best_random = rf_randomcv.best_estimator_\n",
        "# prediksi data dengan random grid search\n",
        "y_train_pred = rf_best_random.predict(X_train)\n",
        "y_pred = rf_best_random.predict(X_test)\n",
        "# Evaluasi data\n",
        "print('classification_report - random forest - y_train dan y_train_pred')\n",
        "print('\\n')\n",
        "print(classification_report(y_train, y_train_pred))\n",
        "print('')\n",
        "print('classification_report - random forest - y_test dan y_pred')\n",
        "print('\\n')\n",
        "print(classification_report(y_test, y_pred))"
      ]
    },
    {
      "cell_type": "markdown",
      "metadata": {
        "id": "g0q7clX5kbYQ"
      },
      "source": [
        "Terlihat bahwa hasil yang didapat (precision, recall, dan f-1 score) tidak jauh berbeda dengan sebelumnya. Walaupun data terlihat masih bersifat overfit, namun perbedaan nilai-nilai tersebut sudah semakin mendekat."
      ]
    },
    {
      "cell_type": "markdown",
      "metadata": {
        "id": "RK_HYlfZkY0G"
      },
      "source": [
        "## Model Saving"
      ]
    },
    {
      "cell_type": "markdown",
      "metadata": {
        "id": "o0yHs_x7kvpI"
      },
      "source": [
        "Dalam proses model employment diperlukan adanya penyimpanan model terbaik agar dapat digunakan dalam proses deployment ke Heroku."
      ]
    },
    {
      "cell_type": "code",
      "execution_count": 214,
      "metadata": {
        "id": "Ffh-gYlGnsjG"
      },
      "outputs": [],
      "source": [
        "filename = open(\"rf_best_random.pkl\", \"wb\")\n",
        "pickle.dump(rf_best_random, filename)\n",
        "filename.close()"
      ]
    },
    {
      "cell_type": "markdown",
      "metadata": {
        "id": "AWTbiSsfkTWU"
      },
      "source": [
        "## Model Inference"
      ]
    },
    {
      "cell_type": "code",
      "execution_count": 215,
      "metadata": {
        "colab": {
          "base_uri": "https://localhost:8080/",
          "height": 364
        },
        "id": "3Mzxa9pHc8vo",
        "outputId": "4a599c4a-0128-4b76-fbd4-1f2c112e26ee"
      },
      "outputs": [
        {
          "data": {
            "text/html": [
              "\n",
              "  <div id=\"df-28697955-cb02-49b6-8812-efe4bb25f887\">\n",
              "    <div class=\"colab-df-container\">\n",
              "      <div>\n",
              "<style scoped>\n",
              "    .dataframe tbody tr th:only-of-type {\n",
              "        vertical-align: middle;\n",
              "    }\n",
              "\n",
              "    .dataframe tbody tr th {\n",
              "        vertical-align: top;\n",
              "    }\n",
              "\n",
              "    .dataframe thead th {\n",
              "        text-align: right;\n",
              "    }\n",
              "</style>\n",
              "<table border=\"1\" class=\"dataframe\">\n",
              "  <thead>\n",
              "    <tr style=\"text-align: right;\">\n",
              "      <th></th>\n",
              "      <th>aluminium</th>\n",
              "      <th>ammonia</th>\n",
              "      <th>arsenic</th>\n",
              "      <th>barium</th>\n",
              "      <th>cadmium</th>\n",
              "      <th>chloramine</th>\n",
              "      <th>chromium</th>\n",
              "      <th>copper</th>\n",
              "      <th>flouride</th>\n",
              "      <th>bacteria</th>\n",
              "      <th>viruses</th>\n",
              "      <th>lead</th>\n",
              "      <th>nitrates</th>\n",
              "      <th>nitrites</th>\n",
              "      <th>mercury</th>\n",
              "      <th>perchlorate</th>\n",
              "      <th>radium</th>\n",
              "      <th>selenium</th>\n",
              "      <th>silver</th>\n",
              "      <th>uranium</th>\n",
              "    </tr>\n",
              "  </thead>\n",
              "  <tbody>\n",
              "    <tr>\n",
              "      <th>3128</th>\n",
              "      <td>0.02</td>\n",
              "      <td>17.74</td>\n",
              "      <td>0.09</td>\n",
              "      <td>4.89</td>\n",
              "      <td>0.080</td>\n",
              "      <td>2.79</td>\n",
              "      <td>0.03</td>\n",
              "      <td>1.40</td>\n",
              "      <td>0.50</td>\n",
              "      <td>0.28</td>\n",
              "      <td>0.005</td>\n",
              "      <td>0.044</td>\n",
              "      <td>2.82</td>\n",
              "      <td>1.97</td>\n",
              "      <td>0.001</td>\n",
              "      <td>53.35</td>\n",
              "      <td>7.90</td>\n",
              "      <td>0.04</td>\n",
              "      <td>0.28</td>\n",
              "      <td>0.03</td>\n",
              "    </tr>\n",
              "    <tr>\n",
              "      <th>5729</th>\n",
              "      <td>0.04</td>\n",
              "      <td>5.47</td>\n",
              "      <td>0.07</td>\n",
              "      <td>1.30</td>\n",
              "      <td>0.010</td>\n",
              "      <td>0.35</td>\n",
              "      <td>0.08</td>\n",
              "      <td>0.47</td>\n",
              "      <td>0.89</td>\n",
              "      <td>0.78</td>\n",
              "      <td>0.780</td>\n",
              "      <td>0.038</td>\n",
              "      <td>2.47</td>\n",
              "      <td>0.79</td>\n",
              "      <td>0.009</td>\n",
              "      <td>0.06</td>\n",
              "      <td>0.14</td>\n",
              "      <td>0.02</td>\n",
              "      <td>0.08</td>\n",
              "      <td>0.06</td>\n",
              "    </tr>\n",
              "    <tr>\n",
              "      <th>4264</th>\n",
              "      <td>0.08</td>\n",
              "      <td>1.59</td>\n",
              "      <td>0.08</td>\n",
              "      <td>0.72</td>\n",
              "      <td>0.070</td>\n",
              "      <td>0.18</td>\n",
              "      <td>0.06</td>\n",
              "      <td>0.01</td>\n",
              "      <td>1.40</td>\n",
              "      <td>0.00</td>\n",
              "      <td>0.950</td>\n",
              "      <td>0.025</td>\n",
              "      <td>9.35</td>\n",
              "      <td>0.05</td>\n",
              "      <td>0.007</td>\n",
              "      <td>0.47</td>\n",
              "      <td>5.77</td>\n",
              "      <td>0.04</td>\n",
              "      <td>0.05</td>\n",
              "      <td>0.08</td>\n",
              "    </tr>\n",
              "    <tr>\n",
              "      <th>1685</th>\n",
              "      <td>3.16</td>\n",
              "      <td>17.60</td>\n",
              "      <td>0.10</td>\n",
              "      <td>3.71</td>\n",
              "      <td>0.060</td>\n",
              "      <td>1.41</td>\n",
              "      <td>0.29</td>\n",
              "      <td>1.38</td>\n",
              "      <td>1.48</td>\n",
              "      <td>0.67</td>\n",
              "      <td>0.670</td>\n",
              "      <td>0.080</td>\n",
              "      <td>18.03</td>\n",
              "      <td>2.14</td>\n",
              "      <td>0.002</td>\n",
              "      <td>15.14</td>\n",
              "      <td>3.93</td>\n",
              "      <td>0.07</td>\n",
              "      <td>0.31</td>\n",
              "      <td>0.08</td>\n",
              "    </tr>\n",
              "    <tr>\n",
              "      <th>5936</th>\n",
              "      <td>0.05</td>\n",
              "      <td>21.73</td>\n",
              "      <td>0.06</td>\n",
              "      <td>3.05</td>\n",
              "      <td>0.090</td>\n",
              "      <td>0.32</td>\n",
              "      <td>0.03</td>\n",
              "      <td>0.16</td>\n",
              "      <td>0.12</td>\n",
              "      <td>0.63</td>\n",
              "      <td>0.630</td>\n",
              "      <td>0.026</td>\n",
              "      <td>4.97</td>\n",
              "      <td>0.94</td>\n",
              "      <td>0.007</td>\n",
              "      <td>1.30</td>\n",
              "      <td>6.13</td>\n",
              "      <td>0.07</td>\n",
              "      <td>0.00</td>\n",
              "      <td>0.00</td>\n",
              "    </tr>\n",
              "    <tr>\n",
              "      <th>6282</th>\n",
              "      <td>0.09</td>\n",
              "      <td>1.88</td>\n",
              "      <td>0.07</td>\n",
              "      <td>1.01</td>\n",
              "      <td>0.040</td>\n",
              "      <td>0.05</td>\n",
              "      <td>0.01</td>\n",
              "      <td>1.35</td>\n",
              "      <td>1.06</td>\n",
              "      <td>0.22</td>\n",
              "      <td>0.007</td>\n",
              "      <td>0.069</td>\n",
              "      <td>11.78</td>\n",
              "      <td>1.55</td>\n",
              "      <td>0.005</td>\n",
              "      <td>3.65</td>\n",
              "      <td>1.12</td>\n",
              "      <td>0.07</td>\n",
              "      <td>0.09</td>\n",
              "      <td>0.03</td>\n",
              "    </tr>\n",
              "    <tr>\n",
              "      <th>5439</th>\n",
              "      <td>0.04</td>\n",
              "      <td>11.39</td>\n",
              "      <td>0.05</td>\n",
              "      <td>1.62</td>\n",
              "      <td>0.000</td>\n",
              "      <td>0.14</td>\n",
              "      <td>0.02</td>\n",
              "      <td>1.25</td>\n",
              "      <td>0.51</td>\n",
              "      <td>0.00</td>\n",
              "      <td>0.690</td>\n",
              "      <td>0.111</td>\n",
              "      <td>16.13</td>\n",
              "      <td>0.27</td>\n",
              "      <td>0.001</td>\n",
              "      <td>4.36</td>\n",
              "      <td>0.87</td>\n",
              "      <td>0.03</td>\n",
              "      <td>0.00</td>\n",
              "      <td>0.03</td>\n",
              "    </tr>\n",
              "    <tr>\n",
              "      <th>2694</th>\n",
              "      <td>0.15</td>\n",
              "      <td>29.04</td>\n",
              "      <td>0.02</td>\n",
              "      <td>1.63</td>\n",
              "      <td>0.007</td>\n",
              "      <td>3.30</td>\n",
              "      <td>0.87</td>\n",
              "      <td>0.95</td>\n",
              "      <td>0.43</td>\n",
              "      <td>0.94</td>\n",
              "      <td>0.940</td>\n",
              "      <td>0.070</td>\n",
              "      <td>3.72</td>\n",
              "      <td>1.36</td>\n",
              "      <td>0.003</td>\n",
              "      <td>27.63</td>\n",
              "      <td>4.67</td>\n",
              "      <td>0.07</td>\n",
              "      <td>0.27</td>\n",
              "      <td>0.06</td>\n",
              "    </tr>\n",
              "  </tbody>\n",
              "</table>\n",
              "</div>\n",
              "      <button class=\"colab-df-convert\" onclick=\"convertToInteractive('df-28697955-cb02-49b6-8812-efe4bb25f887')\"\n",
              "              title=\"Convert this dataframe to an interactive table.\"\n",
              "              style=\"display:none;\">\n",
              "        \n",
              "  <svg xmlns=\"http://www.w3.org/2000/svg\" height=\"24px\"viewBox=\"0 0 24 24\"\n",
              "       width=\"24px\">\n",
              "    <path d=\"M0 0h24v24H0V0z\" fill=\"none\"/>\n",
              "    <path d=\"M18.56 5.44l.94 2.06.94-2.06 2.06-.94-2.06-.94-.94-2.06-.94 2.06-2.06.94zm-11 1L8.5 8.5l.94-2.06 2.06-.94-2.06-.94L8.5 2.5l-.94 2.06-2.06.94zm10 10l.94 2.06.94-2.06 2.06-.94-2.06-.94-.94-2.06-.94 2.06-2.06.94z\"/><path d=\"M17.41 7.96l-1.37-1.37c-.4-.4-.92-.59-1.43-.59-.52 0-1.04.2-1.43.59L10.3 9.45l-7.72 7.72c-.78.78-.78 2.05 0 2.83L4 21.41c.39.39.9.59 1.41.59.51 0 1.02-.2 1.41-.59l7.78-7.78 2.81-2.81c.8-.78.8-2.07 0-2.86zM5.41 20L4 18.59l7.72-7.72 1.47 1.35L5.41 20z\"/>\n",
              "  </svg>\n",
              "      </button>\n",
              "      \n",
              "  <style>\n",
              "    .colab-df-container {\n",
              "      display:flex;\n",
              "      flex-wrap:wrap;\n",
              "      gap: 12px;\n",
              "    }\n",
              "\n",
              "    .colab-df-convert {\n",
              "      background-color: #E8F0FE;\n",
              "      border: none;\n",
              "      border-radius: 50%;\n",
              "      cursor: pointer;\n",
              "      display: none;\n",
              "      fill: #1967D2;\n",
              "      height: 32px;\n",
              "      padding: 0 0 0 0;\n",
              "      width: 32px;\n",
              "    }\n",
              "\n",
              "    .colab-df-convert:hover {\n",
              "      background-color: #E2EBFA;\n",
              "      box-shadow: 0px 1px 2px rgba(60, 64, 67, 0.3), 0px 1px 3px 1px rgba(60, 64, 67, 0.15);\n",
              "      fill: #174EA6;\n",
              "    }\n",
              "\n",
              "    [theme=dark] .colab-df-convert {\n",
              "      background-color: #3B4455;\n",
              "      fill: #D2E3FC;\n",
              "    }\n",
              "\n",
              "    [theme=dark] .colab-df-convert:hover {\n",
              "      background-color: #434B5C;\n",
              "      box-shadow: 0px 1px 3px 1px rgba(0, 0, 0, 0.15);\n",
              "      filter: drop-shadow(0px 1px 2px rgba(0, 0, 0, 0.3));\n",
              "      fill: #FFFFFF;\n",
              "    }\n",
              "  </style>\n",
              "\n",
              "      <script>\n",
              "        const buttonEl =\n",
              "          document.querySelector('#df-28697955-cb02-49b6-8812-efe4bb25f887 button.colab-df-convert');\n",
              "        buttonEl.style.display =\n",
              "          google.colab.kernel.accessAllowed ? 'block' : 'none';\n",
              "\n",
              "        async function convertToInteractive(key) {\n",
              "          const element = document.querySelector('#df-28697955-cb02-49b6-8812-efe4bb25f887');\n",
              "          const dataTable =\n",
              "            await google.colab.kernel.invokeFunction('convertToInteractive',\n",
              "                                                     [key], {});\n",
              "          if (!dataTable) return;\n",
              "\n",
              "          const docLinkHtml = 'Like what you see? Visit the ' +\n",
              "            '<a target=\"_blank\" href=https://colab.research.google.com/notebooks/data_table.ipynb>data table notebook</a>'\n",
              "            + ' to learn more about interactive tables.';\n",
              "          element.innerHTML = '';\n",
              "          dataTable['output_type'] = 'display_data';\n",
              "          await google.colab.output.renderOutput(dataTable, element);\n",
              "          const docLink = document.createElement('div');\n",
              "          docLink.innerHTML = docLinkHtml;\n",
              "          element.appendChild(docLink);\n",
              "        }\n",
              "      </script>\n",
              "    </div>\n",
              "  </div>\n",
              "  "
            ],
            "text/plain": [
              "      aluminium  ammonia  arsenic  barium  ...  radium  selenium  silver  uranium\n",
              "3128       0.02    17.74     0.09    4.89  ...    7.90      0.04    0.28     0.03\n",
              "5729       0.04     5.47     0.07    1.30  ...    0.14      0.02    0.08     0.06\n",
              "4264       0.08     1.59     0.08    0.72  ...    5.77      0.04    0.05     0.08\n",
              "1685       3.16    17.60     0.10    3.71  ...    3.93      0.07    0.31     0.08\n",
              "5936       0.05    21.73     0.06    3.05  ...    6.13      0.07    0.00     0.00\n",
              "6282       0.09     1.88     0.07    1.01  ...    1.12      0.07    0.09     0.03\n",
              "5439       0.04    11.39     0.05    1.62  ...    0.87      0.03    0.00     0.03\n",
              "2694       0.15    29.04     0.02    1.63  ...    4.67      0.07    0.27     0.06\n",
              "\n",
              "[8 rows x 20 columns]"
            ]
          },
          "execution_count": 215,
          "metadata": {},
          "output_type": "execute_result"
        }
      ],
      "source": [
        "# Loading data inference\n",
        "X_inf"
      ]
    },
    {
      "cell_type": "code",
      "execution_count": 216,
      "metadata": {
        "id": "g9AL_5w0dKOR"
      },
      "outputs": [],
      "source": [
        "# Pendropan missing values untuk data numerikal\n",
        "X_inf.dropna(inplace=True)\n",
        "y_inf.dropna(inplace=True)"
      ]
    },
    {
      "cell_type": "code",
      "execution_count": 217,
      "metadata": {
        "colab": {
          "base_uri": "https://localhost:8080/"
        },
        "id": "fu754tnuddrX",
        "outputId": "2a9d4b71-1175-47bb-c8dd-ea09310ee338"
      },
      "outputs": [
        {
          "data": {
            "text/plain": [
              "array([0., 0., 0., 0., 0., 0., 0., 0.])"
            ]
          },
          "execution_count": 217,
          "metadata": {},
          "output_type": "execute_result"
        }
      ],
      "source": [
        "# Prediksi data inference dengan pipeline dan random grid search\n",
        "y_inf_pred = rf_best_random.predict(X_inf)\n",
        "y_inf_pred"
      ]
    },
    {
      "cell_type": "code",
      "execution_count": 218,
      "metadata": {
        "colab": {
          "base_uri": "https://localhost:8080/"
        },
        "id": "B733R7PBeG-B",
        "outputId": "810f9719-a087-45e6-cd7e-123cae1ce290"
      },
      "outputs": [
        {
          "data": {
            "text/plain": [
              "3128    0.0\n",
              "5729    0.0\n",
              "4264    0.0\n",
              "1685    0.0\n",
              "5936    0.0\n",
              "6282    0.0\n",
              "5439    0.0\n",
              "2694    0.0\n",
              "Name: is_safe, dtype: float64"
            ]
          },
          "execution_count": 218,
          "metadata": {},
          "output_type": "execute_result"
        }
      ],
      "source": [
        "# Cek kevalidan y_inf_pred dengan y_inf\n",
        "y_inf"
      ]
    },
    {
      "cell_type": "markdown",
      "metadata": {
        "id": "N_OilzSXeVQo"
      },
      "source": [
        "Terlihat bahwa data y_inf_pred dengan y_inf sudah sesuai, sehingga dapat disimpulkan bahwa model yang dipakai dalam pekerjaan ini sudah cukup valid."
      ]
    },
    {
      "cell_type": "markdown",
      "metadata": {
        "id": "oqiU2cjdlIp6"
      },
      "source": [
        "## Kesimpulan"
      ]
    },
    {
      "cell_type": "markdown",
      "metadata": {
        "id": "eSQaZmUgekgf"
      },
      "source": [
        "- Dataset yang dipakai dalam pekerjaan ini memiliki beberapa data yang \"salah\", yang artinya terjadi kesalahan dalam pengambilan datanya. \n",
        "\n",
        "  - Pada beberapa kolom terdapat outlier yang cukup banyak sehingga outlier tersebut tidak dapat di-trimmming ataupun di-capping dan hanya dibiarkan begitu saja. \n",
        "\n",
        "    - Kesalahan tersebut masih dapat tergolong wajar sehingga dataset ini masih dapat digunakan untuk model Machine Learning. \n",
        "\n",
        "- Dataset ini bersifat imbalance sehingga perlu ditangani dengan metode OverSampling agar hasil prediksi tidak underfit atau overfit.\n",
        "\n",
        "  - Metode yang dipakai adalah metode SMOTE dengan tujuan menghindari overfit pada data training. \n",
        "\n",
        "- Dari beberapa model yang telah diujikan ke dalam dataset ini, dipilih model Random Forest. \n",
        "\n",
        "  - Model Random Forest memiliki nilai precision, recall, dan f-1 score yang cukup tinggi bila dibandingkan dengan yang lain.\n",
        "\n",
        "    - Untuk mengoptimalkan hasil prediksi, telah dilakukan hyperparameter tuning dan terlihat adanya peningkatan yang jelas pada nilai precision, recall, dan f-1 score. \n",
        "\n",
        "      - Hasil akhir masih menunjukkan overfit, namun perbedaan nilai-nilai yang muncul sudah semakin mendekat.\n",
        "        - Perlu dilakukan adanya hyperparameter tuning dengan konfigurasi yang lebih banyak.\n",
        "\n",
        "- Dilakukan metode pipeline pada dataset ini agar memudahkan dalam proses model employment."
      ]
    }
  ],
  "metadata": {
    "colab": {
      "name": "h8dsft_Milestone2P1_naufal_aulia_adam.ipynb",
      "provenance": []
    },
    "interpreter": {
      "hash": "bb0cbac54d6cdbae60be2e6d83bf46fb7f752717ca2d60c579508701c83844df"
    },
    "kernelspec": {
      "display_name": "Python 3.10.2 64-bit",
      "language": "python",
      "name": "python3"
    },
    "language_info": {
      "codemirror_mode": {
        "name": "ipython",
        "version": 3
      },
      "file_extension": ".py",
      "mimetype": "text/x-python",
      "name": "python",
      "nbconvert_exporter": "python",
      "pygments_lexer": "ipython3",
      "version": "3.10.2"
    },
    "orig_nbformat": 4
  },
  "nbformat": 4,
  "nbformat_minor": 0
}
